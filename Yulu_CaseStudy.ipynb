{
 "cells": [
  {
   "cell_type": "markdown",
   "metadata": {
    "id": "55afvkaiv1wi"
   },
   "source": [
    "**Overview**\n",
    "\n",
    "*   Yulu is India's leading micro-mobility service provider, which offers unique vehicles for the daily commute. Starting off as a mission to eliminate traffic congestion in India, Yulu provides the safest commute solution through a user-friendly mobile app to enable shared, solo and sustainable commuting.\n",
    "\n",
    "*   Yulu zones are located at all the appropriate locations (including metro stations, bus stands, office spaces, residential areas, corporate offices, etc) to make those first and last miles smooth, affordable, and convenient!\n"
   ]
  },
  {
   "cell_type": "markdown",
   "metadata": {
    "id": "Lz-aXcfHv2f5"
   },
   "source": [
    "**Problem Statement**\n",
    "\n",
    "Yulu has recently suffered considerable dips in its revenues. Yulu have contracted a consulting company to understand the factors on which the demand for these shared electric cycles depends. Specifically, **Yulu want to understand the factors affecting the demand for these shared electric cycles in the Indian market.**\n",
    "\n",
    "What are the factors affecting Yulu's revenues and on what factors the demand of these electric bikes depends in the Indian market."
   ]
  },
  {
   "cell_type": "markdown",
   "metadata": {
    "id": "8JXFTerrv2lc"
   },
   "source": [
    "**Objective**\n",
    "\n",
    "Our objective is to analyse the given dataset and generate insights based on followings:\n",
    "\n",
    "*\t  Which variables are significant in predicting the demand for shared electric cycles in the Indian market?\n",
    "\n",
    "*\t  How well those variables describe the electric cycle demands.\n",
    "\n",
    "*   Relationship between the dependent and independent variables.\n"
   ]
  },
  {
   "cell_type": "markdown",
   "metadata": {
    "id": "Ium4CrTiv2pJ"
   },
   "source": [
    "**Dataset :** We will be using this dataset \"yulu_bike_sharing.csv\" throughout this casestudy and try to findout useful insights."
   ]
  },
  {
   "cell_type": "code",
   "execution_count": null,
   "metadata": {
    "id": "BBj32nO-4qUV"
   },
   "outputs": [],
   "source": [
    "#Importing required Libaries\n",
    "import numpy as np #For basic mathematical operations\n",
    "import pandas as pd #For data analysis\n",
    "import matplotlib.pyplot as plt #For data visulatisation\n",
    "import seaborn as sns #For data visulatisation"
   ]
  },
  {
   "cell_type": "code",
   "execution_count": null,
   "metadata": {
    "id": "P9O0_ds-5BOU"
   },
   "outputs": [],
   "source": [
    "#Reading the CSV file\n",
    "df = pd.read_csv(\"yulu_bike_sharing.csv\")"
   ]
  },
  {
   "cell_type": "code",
   "execution_count": null,
   "metadata": {
    "colab": {
     "base_uri": "https://localhost:8080/",
     "height": 206
    },
    "id": "V_b2DesItJCm",
    "outputId": "5c352688-8d7a-408f-b704-430774b03c0d"
   },
   "outputs": [
    {
     "data": {
      "application/vnd.google.colaboratory.intrinsic+json": {
       "summary": "{\n  \"name\": \"df\",\n  \"rows\": 5,\n  \"fields\": [\n    {\n      \"column\": \"datetime\",\n      \"properties\": {\n        \"dtype\": \"date\",\n        \"min\": \"2011-01-06 20:00:00\",\n        \"max\": \"2011-09-18 02:00:00\",\n        \"num_unique_values\": 5,\n        \"samples\": [\n          \"2011-07-06 12:00:00\",\n          \"2011-02-03 07:00:00\",\n          \"2011-01-06 20:00:00\"\n        ],\n        \"semantic_type\": \"\",\n        \"description\": \"\"\n      }\n    },\n    {\n      \"column\": \"season\",\n      \"properties\": {\n        \"dtype\": \"number\",\n        \"std\": 1,\n        \"min\": 1,\n        \"max\": 3,\n        \"num_unique_values\": 2,\n        \"samples\": [\n          3,\n          1\n        ],\n        \"semantic_type\": \"\",\n        \"description\": \"\"\n      }\n    },\n    {\n      \"column\": \"holiday\",\n      \"properties\": {\n        \"dtype\": \"number\",\n        \"std\": 0,\n        \"min\": 0,\n        \"max\": 0,\n        \"num_unique_values\": 1,\n        \"samples\": [\n          0\n        ],\n        \"semantic_type\": \"\",\n        \"description\": \"\"\n      }\n    },\n    {\n      \"column\": \"workingday\",\n      \"properties\": {\n        \"dtype\": \"number\",\n        \"std\": 0,\n        \"min\": 0,\n        \"max\": 1,\n        \"num_unique_values\": 2,\n        \"samples\": [\n          0\n        ],\n        \"semantic_type\": \"\",\n        \"description\": \"\"\n      }\n    },\n    {\n      \"column\": \"weather\",\n      \"properties\": {\n        \"dtype\": \"number\",\n        \"std\": 0,\n        \"min\": 1,\n        \"max\": 2,\n        \"num_unique_values\": 2,\n        \"samples\": [\n          1\n        ],\n        \"semantic_type\": \"\",\n        \"description\": \"\"\n      }\n    },\n    {\n      \"column\": \"temp\",\n      \"properties\": {\n        \"dtype\": \"number\",\n        \"std\": 10.356051371058372,\n        \"min\": 5.74,\n        \"max\": 30.34,\n        \"num_unique_values\": 5,\n        \"samples\": [\n          30.34\n        ],\n        \"semantic_type\": \"\",\n        \"description\": \"\"\n      }\n    },\n    {\n      \"column\": \"atemp\",\n      \"properties\": {\n        \"dtype\": \"number\",\n        \"std\": 11.887966604932906,\n        \"min\": 6.06,\n        \"max\": 34.85,\n        \"num_unique_values\": 5,\n        \"samples\": [\n          34.85\n        ],\n        \"semantic_type\": \"\",\n        \"description\": \"\"\n      }\n    },\n    {\n      \"column\": \"humidity\",\n      \"properties\": {\n        \"dtype\": \"number\",\n        \"std\": 13,\n        \"min\": 50,\n        \"max\": 82,\n        \"num_unique_values\": 5,\n        \"samples\": [\n          66\n        ],\n        \"semantic_type\": \"\",\n        \"description\": \"\"\n      }\n    },\n    {\n      \"column\": \"windspeed\",\n      \"properties\": {\n        \"dtype\": \"number\",\n        \"std\": 6.057597425382443,\n        \"min\": 6.0032,\n        \"max\": 22.0028,\n        \"num_unique_values\": 5,\n        \"samples\": [\n          6.0032\n        ],\n        \"semantic_type\": \"\",\n        \"description\": \"\"\n      }\n    },\n    {\n      \"column\": \"casual\",\n      \"properties\": {\n        \"dtype\": \"number\",\n        \"std\": 16,\n        \"min\": 0,\n        \"max\": 38,\n        \"num_unique_values\": 5,\n        \"samples\": [\n          38\n        ],\n        \"semantic_type\": \"\",\n        \"description\": \"\"\n      }\n    },\n    {\n      \"column\": \"registered\",\n      \"properties\": {\n        \"dtype\": \"number\",\n        \"std\": 41,\n        \"min\": 2,\n        \"max\": 114,\n        \"num_unique_values\": 5,\n        \"samples\": [\n          114\n        ],\n        \"semantic_type\": \"\",\n        \"description\": \"\"\n      }\n    },\n    {\n      \"column\": \"count\",\n      \"properties\": {\n        \"dtype\": \"number\",\n        \"std\": 53,\n        \"min\": 2,\n        \"max\": 152,\n        \"num_unique_values\": 5,\n        \"samples\": [\n          152\n        ],\n        \"semantic_type\": \"\",\n        \"description\": \"\"\n      }\n    }\n  ]\n}",
       "type": "dataframe"
      },
      "text/html": [
       "\n",
       "  <div id=\"df-5bd20742-017c-46b4-863e-b29b8027eeaa\" class=\"colab-df-container\">\n",
       "    <div>\n",
       "<style scoped>\n",
       "    .dataframe tbody tr th:only-of-type {\n",
       "        vertical-align: middle;\n",
       "    }\n",
       "\n",
       "    .dataframe tbody tr th {\n",
       "        vertical-align: top;\n",
       "    }\n",
       "\n",
       "    .dataframe thead th {\n",
       "        text-align: right;\n",
       "    }\n",
       "</style>\n",
       "<table border=\"1\" class=\"dataframe\">\n",
       "  <thead>\n",
       "    <tr style=\"text-align: right;\">\n",
       "      <th></th>\n",
       "      <th>datetime</th>\n",
       "      <th>season</th>\n",
       "      <th>holiday</th>\n",
       "      <th>workingday</th>\n",
       "      <th>weather</th>\n",
       "      <th>temp</th>\n",
       "      <th>atemp</th>\n",
       "      <th>humidity</th>\n",
       "      <th>windspeed</th>\n",
       "      <th>casual</th>\n",
       "      <th>registered</th>\n",
       "      <th>count</th>\n",
       "    </tr>\n",
       "  </thead>\n",
       "  <tbody>\n",
       "    <tr>\n",
       "      <th>951</th>\n",
       "      <td>2011-03-04 02:00:00</td>\n",
       "      <td>1</td>\n",
       "      <td>0</td>\n",
       "      <td>1</td>\n",
       "      <td>2</td>\n",
       "      <td>7.38</td>\n",
       "      <td>9.090</td>\n",
       "      <td>64</td>\n",
       "      <td>12.9980</td>\n",
       "      <td>0</td>\n",
       "      <td>2</td>\n",
       "      <td>2</td>\n",
       "    </tr>\n",
       "    <tr>\n",
       "      <th>2822</th>\n",
       "      <td>2011-07-06 12:00:00</td>\n",
       "      <td>3</td>\n",
       "      <td>0</td>\n",
       "      <td>1</td>\n",
       "      <td>2</td>\n",
       "      <td>30.34</td>\n",
       "      <td>34.850</td>\n",
       "      <td>66</td>\n",
       "      <td>6.0032</td>\n",
       "      <td>38</td>\n",
       "      <td>114</td>\n",
       "      <td>152</td>\n",
       "    </tr>\n",
       "    <tr>\n",
       "      <th>134</th>\n",
       "      <td>2011-01-06 20:00:00</td>\n",
       "      <td>1</td>\n",
       "      <td>0</td>\n",
       "      <td>1</td>\n",
       "      <td>1</td>\n",
       "      <td>8.20</td>\n",
       "      <td>10.605</td>\n",
       "      <td>51</td>\n",
       "      <td>11.0014</td>\n",
       "      <td>3</td>\n",
       "      <td>66</td>\n",
       "      <td>69</td>\n",
       "    </tr>\n",
       "    <tr>\n",
       "      <th>4009</th>\n",
       "      <td>2011-09-18 02:00:00</td>\n",
       "      <td>3</td>\n",
       "      <td>0</td>\n",
       "      <td>0</td>\n",
       "      <td>1</td>\n",
       "      <td>18.04</td>\n",
       "      <td>21.970</td>\n",
       "      <td>82</td>\n",
       "      <td>16.9979</td>\n",
       "      <td>21</td>\n",
       "      <td>68</td>\n",
       "      <td>89</td>\n",
       "    </tr>\n",
       "    <tr>\n",
       "      <th>484</th>\n",
       "      <td>2011-02-03 07:00:00</td>\n",
       "      <td>1</td>\n",
       "      <td>0</td>\n",
       "      <td>1</td>\n",
       "      <td>1</td>\n",
       "      <td>5.74</td>\n",
       "      <td>6.060</td>\n",
       "      <td>50</td>\n",
       "      <td>22.0028</td>\n",
       "      <td>1</td>\n",
       "      <td>86</td>\n",
       "      <td>87</td>\n",
       "    </tr>\n",
       "  </tbody>\n",
       "</table>\n",
       "</div>\n",
       "    <div class=\"colab-df-buttons\">\n",
       "\n",
       "  <div class=\"colab-df-container\">\n",
       "    <button class=\"colab-df-convert\" onclick=\"convertToInteractive('df-5bd20742-017c-46b4-863e-b29b8027eeaa')\"\n",
       "            title=\"Convert this dataframe to an interactive table.\"\n",
       "            style=\"display:none;\">\n",
       "\n",
       "  <svg xmlns=\"http://www.w3.org/2000/svg\" height=\"24px\" viewBox=\"0 -960 960 960\">\n",
       "    <path d=\"M120-120v-720h720v720H120Zm60-500h600v-160H180v160Zm220 220h160v-160H400v160Zm0 220h160v-160H400v160ZM180-400h160v-160H180v160Zm440 0h160v-160H620v160ZM180-180h160v-160H180v160Zm440 0h160v-160H620v160Z\"/>\n",
       "  </svg>\n",
       "    </button>\n",
       "\n",
       "  <style>\n",
       "    .colab-df-container {\n",
       "      display:flex;\n",
       "      gap: 12px;\n",
       "    }\n",
       "\n",
       "    .colab-df-convert {\n",
       "      background-color: #E8F0FE;\n",
       "      border: none;\n",
       "      border-radius: 50%;\n",
       "      cursor: pointer;\n",
       "      display: none;\n",
       "      fill: #1967D2;\n",
       "      height: 32px;\n",
       "      padding: 0 0 0 0;\n",
       "      width: 32px;\n",
       "    }\n",
       "\n",
       "    .colab-df-convert:hover {\n",
       "      background-color: #E2EBFA;\n",
       "      box-shadow: 0px 1px 2px rgba(60, 64, 67, 0.3), 0px 1px 3px 1px rgba(60, 64, 67, 0.15);\n",
       "      fill: #174EA6;\n",
       "    }\n",
       "\n",
       "    .colab-df-buttons div {\n",
       "      margin-bottom: 4px;\n",
       "    }\n",
       "\n",
       "    [theme=dark] .colab-df-convert {\n",
       "      background-color: #3B4455;\n",
       "      fill: #D2E3FC;\n",
       "    }\n",
       "\n",
       "    [theme=dark] .colab-df-convert:hover {\n",
       "      background-color: #434B5C;\n",
       "      box-shadow: 0px 1px 3px 1px rgba(0, 0, 0, 0.15);\n",
       "      filter: drop-shadow(0px 1px 2px rgba(0, 0, 0, 0.3));\n",
       "      fill: #FFFFFF;\n",
       "    }\n",
       "  </style>\n",
       "\n",
       "    <script>\n",
       "      const buttonEl =\n",
       "        document.querySelector('#df-5bd20742-017c-46b4-863e-b29b8027eeaa button.colab-df-convert');\n",
       "      buttonEl.style.display =\n",
       "        google.colab.kernel.accessAllowed ? 'block' : 'none';\n",
       "\n",
       "      async function convertToInteractive(key) {\n",
       "        const element = document.querySelector('#df-5bd20742-017c-46b4-863e-b29b8027eeaa');\n",
       "        const dataTable =\n",
       "          await google.colab.kernel.invokeFunction('convertToInteractive',\n",
       "                                                    [key], {});\n",
       "        if (!dataTable) return;\n",
       "\n",
       "        const docLinkHtml = 'Like what you see? Visit the ' +\n",
       "          '<a target=\"_blank\" href=https://colab.research.google.com/notebooks/data_table.ipynb>data table notebook</a>'\n",
       "          + ' to learn more about interactive tables.';\n",
       "        element.innerHTML = '';\n",
       "        dataTable['output_type'] = 'display_data';\n",
       "        await google.colab.output.renderOutput(dataTable, element);\n",
       "        const docLink = document.createElement('div');\n",
       "        docLink.innerHTML = docLinkHtml;\n",
       "        element.appendChild(docLink);\n",
       "      }\n",
       "    </script>\n",
       "  </div>\n",
       "\n",
       "\n",
       "<div id=\"df-2e6f41e9-0954-45a0-9d46-0965f2687645\">\n",
       "  <button class=\"colab-df-quickchart\" onclick=\"quickchart('df-2e6f41e9-0954-45a0-9d46-0965f2687645')\"\n",
       "            title=\"Suggest charts\"\n",
       "            style=\"display:none;\">\n",
       "\n",
       "<svg xmlns=\"http://www.w3.org/2000/svg\" height=\"24px\"viewBox=\"0 0 24 24\"\n",
       "     width=\"24px\">\n",
       "    <g>\n",
       "        <path d=\"M19 3H5c-1.1 0-2 .9-2 2v14c0 1.1.9 2 2 2h14c1.1 0 2-.9 2-2V5c0-1.1-.9-2-2-2zM9 17H7v-7h2v7zm4 0h-2V7h2v10zm4 0h-2v-4h2v4z\"/>\n",
       "    </g>\n",
       "</svg>\n",
       "  </button>\n",
       "\n",
       "<style>\n",
       "  .colab-df-quickchart {\n",
       "      --bg-color: #E8F0FE;\n",
       "      --fill-color: #1967D2;\n",
       "      --hover-bg-color: #E2EBFA;\n",
       "      --hover-fill-color: #174EA6;\n",
       "      --disabled-fill-color: #AAA;\n",
       "      --disabled-bg-color: #DDD;\n",
       "  }\n",
       "\n",
       "  [theme=dark] .colab-df-quickchart {\n",
       "      --bg-color: #3B4455;\n",
       "      --fill-color: #D2E3FC;\n",
       "      --hover-bg-color: #434B5C;\n",
       "      --hover-fill-color: #FFFFFF;\n",
       "      --disabled-bg-color: #3B4455;\n",
       "      --disabled-fill-color: #666;\n",
       "  }\n",
       "\n",
       "  .colab-df-quickchart {\n",
       "    background-color: var(--bg-color);\n",
       "    border: none;\n",
       "    border-radius: 50%;\n",
       "    cursor: pointer;\n",
       "    display: none;\n",
       "    fill: var(--fill-color);\n",
       "    height: 32px;\n",
       "    padding: 0;\n",
       "    width: 32px;\n",
       "  }\n",
       "\n",
       "  .colab-df-quickchart:hover {\n",
       "    background-color: var(--hover-bg-color);\n",
       "    box-shadow: 0 1px 2px rgba(60, 64, 67, 0.3), 0 1px 3px 1px rgba(60, 64, 67, 0.15);\n",
       "    fill: var(--button-hover-fill-color);\n",
       "  }\n",
       "\n",
       "  .colab-df-quickchart-complete:disabled,\n",
       "  .colab-df-quickchart-complete:disabled:hover {\n",
       "    background-color: var(--disabled-bg-color);\n",
       "    fill: var(--disabled-fill-color);\n",
       "    box-shadow: none;\n",
       "  }\n",
       "\n",
       "  .colab-df-spinner {\n",
       "    border: 2px solid var(--fill-color);\n",
       "    border-color: transparent;\n",
       "    border-bottom-color: var(--fill-color);\n",
       "    animation:\n",
       "      spin 1s steps(1) infinite;\n",
       "  }\n",
       "\n",
       "  @keyframes spin {\n",
       "    0% {\n",
       "      border-color: transparent;\n",
       "      border-bottom-color: var(--fill-color);\n",
       "      border-left-color: var(--fill-color);\n",
       "    }\n",
       "    20% {\n",
       "      border-color: transparent;\n",
       "      border-left-color: var(--fill-color);\n",
       "      border-top-color: var(--fill-color);\n",
       "    }\n",
       "    30% {\n",
       "      border-color: transparent;\n",
       "      border-left-color: var(--fill-color);\n",
       "      border-top-color: var(--fill-color);\n",
       "      border-right-color: var(--fill-color);\n",
       "    }\n",
       "    40% {\n",
       "      border-color: transparent;\n",
       "      border-right-color: var(--fill-color);\n",
       "      border-top-color: var(--fill-color);\n",
       "    }\n",
       "    60% {\n",
       "      border-color: transparent;\n",
       "      border-right-color: var(--fill-color);\n",
       "    }\n",
       "    80% {\n",
       "      border-color: transparent;\n",
       "      border-right-color: var(--fill-color);\n",
       "      border-bottom-color: var(--fill-color);\n",
       "    }\n",
       "    90% {\n",
       "      border-color: transparent;\n",
       "      border-bottom-color: var(--fill-color);\n",
       "    }\n",
       "  }\n",
       "</style>\n",
       "\n",
       "  <script>\n",
       "    async function quickchart(key) {\n",
       "      const quickchartButtonEl =\n",
       "        document.querySelector('#' + key + ' button');\n",
       "      quickchartButtonEl.disabled = true;  // To prevent multiple clicks.\n",
       "      quickchartButtonEl.classList.add('colab-df-spinner');\n",
       "      try {\n",
       "        const charts = await google.colab.kernel.invokeFunction(\n",
       "            'suggestCharts', [key], {});\n",
       "      } catch (error) {\n",
       "        console.error('Error during call to suggestCharts:', error);\n",
       "      }\n",
       "      quickchartButtonEl.classList.remove('colab-df-spinner');\n",
       "      quickchartButtonEl.classList.add('colab-df-quickchart-complete');\n",
       "    }\n",
       "    (() => {\n",
       "      let quickchartButtonEl =\n",
       "        document.querySelector('#df-2e6f41e9-0954-45a0-9d46-0965f2687645 button');\n",
       "      quickchartButtonEl.style.display =\n",
       "        google.colab.kernel.accessAllowed ? 'block' : 'none';\n",
       "    })();\n",
       "  </script>\n",
       "</div>\n",
       "\n",
       "    </div>\n",
       "  </div>\n"
      ],
      "text/plain": [
       "                datetime  season  holiday  workingday  weather   temp   atemp  \\\n",
       "951  2011-03-04 02:00:00       1        0           1        2   7.38   9.090   \n",
       "2822 2011-07-06 12:00:00       3        0           1        2  30.34  34.850   \n",
       "134  2011-01-06 20:00:00       1        0           1        1   8.20  10.605   \n",
       "4009 2011-09-18 02:00:00       3        0           0        1  18.04  21.970   \n",
       "484  2011-02-03 07:00:00       1        0           1        1   5.74   6.060   \n",
       "\n",
       "      humidity  windspeed  casual  registered  count  \n",
       "951         64    12.9980       0           2      2  \n",
       "2822        66     6.0032      38         114    152  \n",
       "134         51    11.0014       3          66     69  \n",
       "4009        82    16.9979      21          68     89  \n",
       "484         50    22.0028       1          86     87  "
      ]
     },
     "execution_count": 29,
     "metadata": {},
     "output_type": "execute_result"
    }
   ],
   "source": [
    "#Checking few records\n",
    "df.sample(5)"
   ]
  },
  {
   "cell_type": "markdown",
   "metadata": {
    "id": "LPkUOxI25eFF"
   },
   "source": [
    "* \tObservations on shape of data, data types of all the attributes, conversion of categorical attributes to 'category' (If required) , missing value detection, statistical summary"
   ]
  },
  {
   "cell_type": "markdown",
   "metadata": {
    "id": "2dRAYs2m57_r"
   },
   "source": [
    "**Shape of the dataset** : There are 10886 rows and 12 columns"
   ]
  },
  {
   "cell_type": "code",
   "execution_count": null,
   "metadata": {
    "colab": {
     "base_uri": "https://localhost:8080/"
    },
    "id": "dgJExM4G56Ad",
    "outputId": "b6db0577-2f64-4661-b326-7b0da00d4970"
   },
   "outputs": [
    {
     "data": {
      "text/plain": [
       "(10886, 12)"
      ]
     },
     "execution_count": 5,
     "metadata": {},
     "output_type": "execute_result"
    }
   ],
   "source": [
    "df.shape #shape function in pandas returns the number of rows and columns present in the dataset"
   ]
  },
  {
   "cell_type": "markdown",
   "metadata": {
    "id": "1ytryU3QEmiv"
   },
   "source": [
    "**Dimension of the dataset**\n",
    "\n",
    "This dateset is of two-dimensional(2D)"
   ]
  },
  {
   "cell_type": "code",
   "execution_count": null,
   "metadata": {
    "colab": {
     "base_uri": "https://localhost:8080/"
    },
    "id": "An9xempPEoy5",
    "outputId": "603078fe-fb2d-4140-dd01-401685ccb9fd"
   },
   "outputs": [
    {
     "data": {
      "text/plain": [
       "2"
      ]
     },
     "execution_count": 30,
     "metadata": {},
     "output_type": "execute_result"
    }
   ],
   "source": [
    "df.ndim #data.ndim wil tell us that how many dimension is the dataset of"
   ]
  },
  {
   "cell_type": "markdown",
   "metadata": {
    "id": "5njdRMXU6fUv"
   },
   "source": [
    "**Data types of all the attributes**\n",
    "\n",
    "*   In this dataset datetime is of dtype object(string) whereas temp, atemp, windspeed are of dtype float and rest of the columns are of dtype int."
   ]
  },
  {
   "cell_type": "code",
   "execution_count": null,
   "metadata": {
    "colab": {
     "base_uri": "https://localhost:8080/"
    },
    "id": "X4YmdkLl6fcS",
    "outputId": "138f7311-4943-4526-f000-408152a80ae7"
   },
   "outputs": [
    {
     "name": "stdout",
     "output_type": "stream",
     "text": [
      "<class 'pandas.core.frame.DataFrame'>\n",
      "RangeIndex: 10886 entries, 0 to 10885\n",
      "Data columns (total 12 columns):\n",
      " #   Column      Non-Null Count  Dtype  \n",
      "---  ------      --------------  -----  \n",
      " 0   datetime    10886 non-null  object \n",
      " 1   season      10886 non-null  int64  \n",
      " 2   holiday     10886 non-null  int64  \n",
      " 3   workingday  10886 non-null  int64  \n",
      " 4   weather     10886 non-null  int64  \n",
      " 5   temp        10886 non-null  float64\n",
      " 6   atemp       10886 non-null  float64\n",
      " 7   humidity    10886 non-null  int64  \n",
      " 8   windspeed   10886 non-null  float64\n",
      " 9   casual      10886 non-null  int64  \n",
      " 10  registered  10886 non-null  int64  \n",
      " 11  count       10886 non-null  int64  \n",
      "dtypes: float64(3), int64(8), object(1)\n",
      "memory usage: 1020.7+ KB\n"
     ]
    }
   ],
   "source": [
    "df.info() #info function in pandas returns the shape, data types, number of non null values present in the dataset"
   ]
  },
  {
   "cell_type": "markdown",
   "metadata": {
    "id": "R3cFy7j48b8i"
   },
   "source": [
    "We can see that column **datetime** is of dtype object but in general the dtype of datetime column should of type datetime. Let us convert the dtype of datetime from object to datetime."
   ]
  },
  {
   "cell_type": "code",
   "execution_count": null,
   "metadata": {
    "colab": {
     "base_uri": "https://localhost:8080/"
    },
    "id": "ncWJdrX5809o",
    "outputId": "fc6ee4d2-11e6-45b7-a34b-719f8d737963"
   },
   "outputs": [
    {
     "data": {
      "text/plain": [
       "dtype('<M8[ns]')"
      ]
     },
     "execution_count": 3,
     "metadata": {},
     "output_type": "execute_result"
    }
   ],
   "source": [
    "df['datetime'] = pd.to_datetime(df['datetime']) #converting the datetime column from object to datetime using to_datetime function\n",
    "df['datetime'].dtypes #dtype got changed to datetime format"
   ]
  },
  {
   "cell_type": "code",
   "execution_count": null,
   "metadata": {
    "colab": {
     "base_uri": "https://localhost:8080/"
    },
    "id": "szbgBwFs-PLq",
    "outputId": "f7528e72-b013-4644-c559-64756136dfc4"
   },
   "outputs": [
    {
     "name": "stdout",
     "output_type": "stream",
     "text": [
      "<class 'pandas.core.frame.DataFrame'>\n",
      "RangeIndex: 10886 entries, 0 to 10885\n",
      "Data columns (total 12 columns):\n",
      " #   Column      Non-Null Count  Dtype         \n",
      "---  ------      --------------  -----         \n",
      " 0   datetime    10886 non-null  datetime64[ns]\n",
      " 1   season      10886 non-null  int64         \n",
      " 2   holiday     10886 non-null  int64         \n",
      " 3   workingday  10886 non-null  int64         \n",
      " 4   weather     10886 non-null  int64         \n",
      " 5   temp        10886 non-null  float64       \n",
      " 6   atemp       10886 non-null  float64       \n",
      " 7   humidity    10886 non-null  int64         \n",
      " 8   windspeed   10886 non-null  float64       \n",
      " 9   casual      10886 non-null  int64         \n",
      " 10  registered  10886 non-null  int64         \n",
      " 11  count       10886 non-null  int64         \n",
      "dtypes: datetime64[ns](1), float64(3), int64(8)\n",
      "memory usage: 1020.7 KB\n"
     ]
    }
   ],
   "source": [
    "df.info()"
   ]
  },
  {
   "cell_type": "markdown",
   "metadata": {
    "id": "loLq-tzT_f9U"
   },
   "source": [
    "Let us understand each columns and what each of their value represents."
   ]
  },
  {
   "cell_type": "markdown",
   "metadata": {
    "id": "v6gAx6Jl-vUA"
   },
   "source": [
    "**Column Profiling:**\n",
    "*  \t**datetime**: Date and time when the bike is booked.\n",
    "*  \t**season**: What was the season when booked denoted by 1,2,3 and 4.\n",
    "\n",
    "    **1:** spring\n",
    "\n",
    "    **2:** summer\n",
    "\n",
    "    **3:** fall\n",
    "    \n",
    "    **4:** winter\n",
    "* \t**holiday**: Represents whether the day is a holiday or not, 1 if it's a holiday else 0.\n",
    "*  \t**workingday**: If the day is neither weekend nor holiday then the value is 1, otherwise the value is 0.\n",
    "* \t**weather**: How was the weather that time denoted by 1,2,3 and 4.\n",
    "\n",
    "    **1:** Clear, Few clouds, partly cloudy, partly cloudy\n",
    "\n",
    "    **2:** Mist + Cloudy, Mist + Broken clouds, Mist + Few clouds, Mist\n",
    "\n",
    "    **3:** Light Snow, Light Rain + Thunderstorm + Scattered clouds, Light Rain + Scattered clouds\n",
    "\n",
    "    **4:** Heavy Rain + Ice Pallets + Thunderstorm + Mist, Snow + Fog\n",
    "\n",
    "* \t**temp:** Temperature in Celsius\n",
    "* \t**atemp:** Feeling temperature in Celsius\n",
    "* \t**humidity:** How was the humidity\n",
    "* \t**windspeed:** Represents wind speed\n",
    "* \t**casual:** Count of casual users booked the bike\n",
    "* \t**registered:** Count of registered users booked the bike\n",
    "* \t**count:** Count of total rental bikes including both casual and registered users.\n"
   ]
  },
  {
   "cell_type": "markdown",
   "metadata": {
    "id": "yGMeB7O7EfTu"
   },
   "source": [
    "**Conversion of categorical attributes to 'category'**\n",
    "\n",
    "Here conversion of categorical attributes to 'category' is not required as all the Dataset is in proper shape."
   ]
  },
  {
   "cell_type": "markdown",
   "metadata": {
    "id": "WhIfbcfkKe-C"
   },
   "source": [
    "**Missing value detection**\n",
    "\n",
    "There are zero missing/Null value present in the dataset. We can use the below commands to check the missing values."
   ]
  },
  {
   "cell_type": "code",
   "execution_count": null,
   "metadata": {
    "colab": {
     "base_uri": "https://localhost:8080/",
     "height": 423
    },
    "id": "t18pUDY4KiM-",
    "outputId": "bb4cc1c3-654a-4398-ac3a-a5f689cd06e9"
   },
   "outputs": [
    {
     "data": {
      "application/vnd.google.colaboratory.intrinsic+json": {
       "summary": "{\n  \"name\": \"df\",\n  \"rows\": 10886,\n  \"fields\": [\n    {\n      \"column\": \"datetime\",\n      \"properties\": {\n        \"dtype\": \"boolean\",\n        \"num_unique_values\": 1,\n        \"samples\": [\n          false\n        ],\n        \"semantic_type\": \"\",\n        \"description\": \"\"\n      }\n    },\n    {\n      \"column\": \"season\",\n      \"properties\": {\n        \"dtype\": \"boolean\",\n        \"num_unique_values\": 1,\n        \"samples\": [\n          false\n        ],\n        \"semantic_type\": \"\",\n        \"description\": \"\"\n      }\n    },\n    {\n      \"column\": \"holiday\",\n      \"properties\": {\n        \"dtype\": \"boolean\",\n        \"num_unique_values\": 1,\n        \"samples\": [\n          false\n        ],\n        \"semantic_type\": \"\",\n        \"description\": \"\"\n      }\n    },\n    {\n      \"column\": \"workingday\",\n      \"properties\": {\n        \"dtype\": \"boolean\",\n        \"num_unique_values\": 1,\n        \"samples\": [\n          false\n        ],\n        \"semantic_type\": \"\",\n        \"description\": \"\"\n      }\n    },\n    {\n      \"column\": \"weather\",\n      \"properties\": {\n        \"dtype\": \"boolean\",\n        \"num_unique_values\": 1,\n        \"samples\": [\n          false\n        ],\n        \"semantic_type\": \"\",\n        \"description\": \"\"\n      }\n    },\n    {\n      \"column\": \"temp\",\n      \"properties\": {\n        \"dtype\": \"boolean\",\n        \"num_unique_values\": 1,\n        \"samples\": [\n          false\n        ],\n        \"semantic_type\": \"\",\n        \"description\": \"\"\n      }\n    },\n    {\n      \"column\": \"atemp\",\n      \"properties\": {\n        \"dtype\": \"boolean\",\n        \"num_unique_values\": 1,\n        \"samples\": [\n          false\n        ],\n        \"semantic_type\": \"\",\n        \"description\": \"\"\n      }\n    },\n    {\n      \"column\": \"humidity\",\n      \"properties\": {\n        \"dtype\": \"boolean\",\n        \"num_unique_values\": 1,\n        \"samples\": [\n          false\n        ],\n        \"semantic_type\": \"\",\n        \"description\": \"\"\n      }\n    },\n    {\n      \"column\": \"windspeed\",\n      \"properties\": {\n        \"dtype\": \"boolean\",\n        \"num_unique_values\": 1,\n        \"samples\": [\n          false\n        ],\n        \"semantic_type\": \"\",\n        \"description\": \"\"\n      }\n    },\n    {\n      \"column\": \"casual\",\n      \"properties\": {\n        \"dtype\": \"boolean\",\n        \"num_unique_values\": 1,\n        \"samples\": [\n          false\n        ],\n        \"semantic_type\": \"\",\n        \"description\": \"\"\n      }\n    },\n    {\n      \"column\": \"registered\",\n      \"properties\": {\n        \"dtype\": \"boolean\",\n        \"num_unique_values\": 1,\n        \"samples\": [\n          false\n        ],\n        \"semantic_type\": \"\",\n        \"description\": \"\"\n      }\n    },\n    {\n      \"column\": \"count\",\n      \"properties\": {\n        \"dtype\": \"boolean\",\n        \"num_unique_values\": 1,\n        \"samples\": [\n          false\n        ],\n        \"semantic_type\": \"\",\n        \"description\": \"\"\n      }\n    }\n  ]\n}",
       "type": "dataframe"
      },
      "text/html": [
       "\n",
       "  <div id=\"df-a31b38d4-0e62-45f8-a8a0-7898579a295c\" class=\"colab-df-container\">\n",
       "    <div>\n",
       "<style scoped>\n",
       "    .dataframe tbody tr th:only-of-type {\n",
       "        vertical-align: middle;\n",
       "    }\n",
       "\n",
       "    .dataframe tbody tr th {\n",
       "        vertical-align: top;\n",
       "    }\n",
       "\n",
       "    .dataframe thead th {\n",
       "        text-align: right;\n",
       "    }\n",
       "</style>\n",
       "<table border=\"1\" class=\"dataframe\">\n",
       "  <thead>\n",
       "    <tr style=\"text-align: right;\">\n",
       "      <th></th>\n",
       "      <th>datetime</th>\n",
       "      <th>season</th>\n",
       "      <th>holiday</th>\n",
       "      <th>workingday</th>\n",
       "      <th>weather</th>\n",
       "      <th>temp</th>\n",
       "      <th>atemp</th>\n",
       "      <th>humidity</th>\n",
       "      <th>windspeed</th>\n",
       "      <th>casual</th>\n",
       "      <th>registered</th>\n",
       "      <th>count</th>\n",
       "    </tr>\n",
       "  </thead>\n",
       "  <tbody>\n",
       "    <tr>\n",
       "      <th>0</th>\n",
       "      <td>False</td>\n",
       "      <td>False</td>\n",
       "      <td>False</td>\n",
       "      <td>False</td>\n",
       "      <td>False</td>\n",
       "      <td>False</td>\n",
       "      <td>False</td>\n",
       "      <td>False</td>\n",
       "      <td>False</td>\n",
       "      <td>False</td>\n",
       "      <td>False</td>\n",
       "      <td>False</td>\n",
       "    </tr>\n",
       "    <tr>\n",
       "      <th>1</th>\n",
       "      <td>False</td>\n",
       "      <td>False</td>\n",
       "      <td>False</td>\n",
       "      <td>False</td>\n",
       "      <td>False</td>\n",
       "      <td>False</td>\n",
       "      <td>False</td>\n",
       "      <td>False</td>\n",
       "      <td>False</td>\n",
       "      <td>False</td>\n",
       "      <td>False</td>\n",
       "      <td>False</td>\n",
       "    </tr>\n",
       "    <tr>\n",
       "      <th>2</th>\n",
       "      <td>False</td>\n",
       "      <td>False</td>\n",
       "      <td>False</td>\n",
       "      <td>False</td>\n",
       "      <td>False</td>\n",
       "      <td>False</td>\n",
       "      <td>False</td>\n",
       "      <td>False</td>\n",
       "      <td>False</td>\n",
       "      <td>False</td>\n",
       "      <td>False</td>\n",
       "      <td>False</td>\n",
       "    </tr>\n",
       "    <tr>\n",
       "      <th>3</th>\n",
       "      <td>False</td>\n",
       "      <td>False</td>\n",
       "      <td>False</td>\n",
       "      <td>False</td>\n",
       "      <td>False</td>\n",
       "      <td>False</td>\n",
       "      <td>False</td>\n",
       "      <td>False</td>\n",
       "      <td>False</td>\n",
       "      <td>False</td>\n",
       "      <td>False</td>\n",
       "      <td>False</td>\n",
       "    </tr>\n",
       "    <tr>\n",
       "      <th>4</th>\n",
       "      <td>False</td>\n",
       "      <td>False</td>\n",
       "      <td>False</td>\n",
       "      <td>False</td>\n",
       "      <td>False</td>\n",
       "      <td>False</td>\n",
       "      <td>False</td>\n",
       "      <td>False</td>\n",
       "      <td>False</td>\n",
       "      <td>False</td>\n",
       "      <td>False</td>\n",
       "      <td>False</td>\n",
       "    </tr>\n",
       "    <tr>\n",
       "      <th>...</th>\n",
       "      <td>...</td>\n",
       "      <td>...</td>\n",
       "      <td>...</td>\n",
       "      <td>...</td>\n",
       "      <td>...</td>\n",
       "      <td>...</td>\n",
       "      <td>...</td>\n",
       "      <td>...</td>\n",
       "      <td>...</td>\n",
       "      <td>...</td>\n",
       "      <td>...</td>\n",
       "      <td>...</td>\n",
       "    </tr>\n",
       "    <tr>\n",
       "      <th>10881</th>\n",
       "      <td>False</td>\n",
       "      <td>False</td>\n",
       "      <td>False</td>\n",
       "      <td>False</td>\n",
       "      <td>False</td>\n",
       "      <td>False</td>\n",
       "      <td>False</td>\n",
       "      <td>False</td>\n",
       "      <td>False</td>\n",
       "      <td>False</td>\n",
       "      <td>False</td>\n",
       "      <td>False</td>\n",
       "    </tr>\n",
       "    <tr>\n",
       "      <th>10882</th>\n",
       "      <td>False</td>\n",
       "      <td>False</td>\n",
       "      <td>False</td>\n",
       "      <td>False</td>\n",
       "      <td>False</td>\n",
       "      <td>False</td>\n",
       "      <td>False</td>\n",
       "      <td>False</td>\n",
       "      <td>False</td>\n",
       "      <td>False</td>\n",
       "      <td>False</td>\n",
       "      <td>False</td>\n",
       "    </tr>\n",
       "    <tr>\n",
       "      <th>10883</th>\n",
       "      <td>False</td>\n",
       "      <td>False</td>\n",
       "      <td>False</td>\n",
       "      <td>False</td>\n",
       "      <td>False</td>\n",
       "      <td>False</td>\n",
       "      <td>False</td>\n",
       "      <td>False</td>\n",
       "      <td>False</td>\n",
       "      <td>False</td>\n",
       "      <td>False</td>\n",
       "      <td>False</td>\n",
       "    </tr>\n",
       "    <tr>\n",
       "      <th>10884</th>\n",
       "      <td>False</td>\n",
       "      <td>False</td>\n",
       "      <td>False</td>\n",
       "      <td>False</td>\n",
       "      <td>False</td>\n",
       "      <td>False</td>\n",
       "      <td>False</td>\n",
       "      <td>False</td>\n",
       "      <td>False</td>\n",
       "      <td>False</td>\n",
       "      <td>False</td>\n",
       "      <td>False</td>\n",
       "    </tr>\n",
       "    <tr>\n",
       "      <th>10885</th>\n",
       "      <td>False</td>\n",
       "      <td>False</td>\n",
       "      <td>False</td>\n",
       "      <td>False</td>\n",
       "      <td>False</td>\n",
       "      <td>False</td>\n",
       "      <td>False</td>\n",
       "      <td>False</td>\n",
       "      <td>False</td>\n",
       "      <td>False</td>\n",
       "      <td>False</td>\n",
       "      <td>False</td>\n",
       "    </tr>\n",
       "  </tbody>\n",
       "</table>\n",
       "<p>10886 rows × 12 columns</p>\n",
       "</div>\n",
       "    <div class=\"colab-df-buttons\">\n",
       "\n",
       "  <div class=\"colab-df-container\">\n",
       "    <button class=\"colab-df-convert\" onclick=\"convertToInteractive('df-a31b38d4-0e62-45f8-a8a0-7898579a295c')\"\n",
       "            title=\"Convert this dataframe to an interactive table.\"\n",
       "            style=\"display:none;\">\n",
       "\n",
       "  <svg xmlns=\"http://www.w3.org/2000/svg\" height=\"24px\" viewBox=\"0 -960 960 960\">\n",
       "    <path d=\"M120-120v-720h720v720H120Zm60-500h600v-160H180v160Zm220 220h160v-160H400v160Zm0 220h160v-160H400v160ZM180-400h160v-160H180v160Zm440 0h160v-160H620v160ZM180-180h160v-160H180v160Zm440 0h160v-160H620v160Z\"/>\n",
       "  </svg>\n",
       "    </button>\n",
       "\n",
       "  <style>\n",
       "    .colab-df-container {\n",
       "      display:flex;\n",
       "      gap: 12px;\n",
       "    }\n",
       "\n",
       "    .colab-df-convert {\n",
       "      background-color: #E8F0FE;\n",
       "      border: none;\n",
       "      border-radius: 50%;\n",
       "      cursor: pointer;\n",
       "      display: none;\n",
       "      fill: #1967D2;\n",
       "      height: 32px;\n",
       "      padding: 0 0 0 0;\n",
       "      width: 32px;\n",
       "    }\n",
       "\n",
       "    .colab-df-convert:hover {\n",
       "      background-color: #E2EBFA;\n",
       "      box-shadow: 0px 1px 2px rgba(60, 64, 67, 0.3), 0px 1px 3px 1px rgba(60, 64, 67, 0.15);\n",
       "      fill: #174EA6;\n",
       "    }\n",
       "\n",
       "    .colab-df-buttons div {\n",
       "      margin-bottom: 4px;\n",
       "    }\n",
       "\n",
       "    [theme=dark] .colab-df-convert {\n",
       "      background-color: #3B4455;\n",
       "      fill: #D2E3FC;\n",
       "    }\n",
       "\n",
       "    [theme=dark] .colab-df-convert:hover {\n",
       "      background-color: #434B5C;\n",
       "      box-shadow: 0px 1px 3px 1px rgba(0, 0, 0, 0.15);\n",
       "      filter: drop-shadow(0px 1px 2px rgba(0, 0, 0, 0.3));\n",
       "      fill: #FFFFFF;\n",
       "    }\n",
       "  </style>\n",
       "\n",
       "    <script>\n",
       "      const buttonEl =\n",
       "        document.querySelector('#df-a31b38d4-0e62-45f8-a8a0-7898579a295c button.colab-df-convert');\n",
       "      buttonEl.style.display =\n",
       "        google.colab.kernel.accessAllowed ? 'block' : 'none';\n",
       "\n",
       "      async function convertToInteractive(key) {\n",
       "        const element = document.querySelector('#df-a31b38d4-0e62-45f8-a8a0-7898579a295c');\n",
       "        const dataTable =\n",
       "          await google.colab.kernel.invokeFunction('convertToInteractive',\n",
       "                                                    [key], {});\n",
       "        if (!dataTable) return;\n",
       "\n",
       "        const docLinkHtml = 'Like what you see? Visit the ' +\n",
       "          '<a target=\"_blank\" href=https://colab.research.google.com/notebooks/data_table.ipynb>data table notebook</a>'\n",
       "          + ' to learn more about interactive tables.';\n",
       "        element.innerHTML = '';\n",
       "        dataTable['output_type'] = 'display_data';\n",
       "        await google.colab.output.renderOutput(dataTable, element);\n",
       "        const docLink = document.createElement('div');\n",
       "        docLink.innerHTML = docLinkHtml;\n",
       "        element.appendChild(docLink);\n",
       "      }\n",
       "    </script>\n",
       "  </div>\n",
       "\n",
       "\n",
       "<div id=\"df-5fc017b5-51a4-4450-9374-b236b7a89e9c\">\n",
       "  <button class=\"colab-df-quickchart\" onclick=\"quickchart('df-5fc017b5-51a4-4450-9374-b236b7a89e9c')\"\n",
       "            title=\"Suggest charts\"\n",
       "            style=\"display:none;\">\n",
       "\n",
       "<svg xmlns=\"http://www.w3.org/2000/svg\" height=\"24px\"viewBox=\"0 0 24 24\"\n",
       "     width=\"24px\">\n",
       "    <g>\n",
       "        <path d=\"M19 3H5c-1.1 0-2 .9-2 2v14c0 1.1.9 2 2 2h14c1.1 0 2-.9 2-2V5c0-1.1-.9-2-2-2zM9 17H7v-7h2v7zm4 0h-2V7h2v10zm4 0h-2v-4h2v4z\"/>\n",
       "    </g>\n",
       "</svg>\n",
       "  </button>\n",
       "\n",
       "<style>\n",
       "  .colab-df-quickchart {\n",
       "      --bg-color: #E8F0FE;\n",
       "      --fill-color: #1967D2;\n",
       "      --hover-bg-color: #E2EBFA;\n",
       "      --hover-fill-color: #174EA6;\n",
       "      --disabled-fill-color: #AAA;\n",
       "      --disabled-bg-color: #DDD;\n",
       "  }\n",
       "\n",
       "  [theme=dark] .colab-df-quickchart {\n",
       "      --bg-color: #3B4455;\n",
       "      --fill-color: #D2E3FC;\n",
       "      --hover-bg-color: #434B5C;\n",
       "      --hover-fill-color: #FFFFFF;\n",
       "      --disabled-bg-color: #3B4455;\n",
       "      --disabled-fill-color: #666;\n",
       "  }\n",
       "\n",
       "  .colab-df-quickchart {\n",
       "    background-color: var(--bg-color);\n",
       "    border: none;\n",
       "    border-radius: 50%;\n",
       "    cursor: pointer;\n",
       "    display: none;\n",
       "    fill: var(--fill-color);\n",
       "    height: 32px;\n",
       "    padding: 0;\n",
       "    width: 32px;\n",
       "  }\n",
       "\n",
       "  .colab-df-quickchart:hover {\n",
       "    background-color: var(--hover-bg-color);\n",
       "    box-shadow: 0 1px 2px rgba(60, 64, 67, 0.3), 0 1px 3px 1px rgba(60, 64, 67, 0.15);\n",
       "    fill: var(--button-hover-fill-color);\n",
       "  }\n",
       "\n",
       "  .colab-df-quickchart-complete:disabled,\n",
       "  .colab-df-quickchart-complete:disabled:hover {\n",
       "    background-color: var(--disabled-bg-color);\n",
       "    fill: var(--disabled-fill-color);\n",
       "    box-shadow: none;\n",
       "  }\n",
       "\n",
       "  .colab-df-spinner {\n",
       "    border: 2px solid var(--fill-color);\n",
       "    border-color: transparent;\n",
       "    border-bottom-color: var(--fill-color);\n",
       "    animation:\n",
       "      spin 1s steps(1) infinite;\n",
       "  }\n",
       "\n",
       "  @keyframes spin {\n",
       "    0% {\n",
       "      border-color: transparent;\n",
       "      border-bottom-color: var(--fill-color);\n",
       "      border-left-color: var(--fill-color);\n",
       "    }\n",
       "    20% {\n",
       "      border-color: transparent;\n",
       "      border-left-color: var(--fill-color);\n",
       "      border-top-color: var(--fill-color);\n",
       "    }\n",
       "    30% {\n",
       "      border-color: transparent;\n",
       "      border-left-color: var(--fill-color);\n",
       "      border-top-color: var(--fill-color);\n",
       "      border-right-color: var(--fill-color);\n",
       "    }\n",
       "    40% {\n",
       "      border-color: transparent;\n",
       "      border-right-color: var(--fill-color);\n",
       "      border-top-color: var(--fill-color);\n",
       "    }\n",
       "    60% {\n",
       "      border-color: transparent;\n",
       "      border-right-color: var(--fill-color);\n",
       "    }\n",
       "    80% {\n",
       "      border-color: transparent;\n",
       "      border-right-color: var(--fill-color);\n",
       "      border-bottom-color: var(--fill-color);\n",
       "    }\n",
       "    90% {\n",
       "      border-color: transparent;\n",
       "      border-bottom-color: var(--fill-color);\n",
       "    }\n",
       "  }\n",
       "</style>\n",
       "\n",
       "  <script>\n",
       "    async function quickchart(key) {\n",
       "      const quickchartButtonEl =\n",
       "        document.querySelector('#' + key + ' button');\n",
       "      quickchartButtonEl.disabled = true;  // To prevent multiple clicks.\n",
       "      quickchartButtonEl.classList.add('colab-df-spinner');\n",
       "      try {\n",
       "        const charts = await google.colab.kernel.invokeFunction(\n",
       "            'suggestCharts', [key], {});\n",
       "      } catch (error) {\n",
       "        console.error('Error during call to suggestCharts:', error);\n",
       "      }\n",
       "      quickchartButtonEl.classList.remove('colab-df-spinner');\n",
       "      quickchartButtonEl.classList.add('colab-df-quickchart-complete');\n",
       "    }\n",
       "    (() => {\n",
       "      let quickchartButtonEl =\n",
       "        document.querySelector('#df-5fc017b5-51a4-4450-9374-b236b7a89e9c button');\n",
       "      quickchartButtonEl.style.display =\n",
       "        google.colab.kernel.accessAllowed ? 'block' : 'none';\n",
       "    })();\n",
       "  </script>\n",
       "</div>\n",
       "\n",
       "    </div>\n",
       "  </div>\n"
      ],
      "text/plain": [
       "       datetime  season  holiday  workingday  weather   temp  atemp  humidity  \\\n",
       "0         False   False    False       False    False  False  False     False   \n",
       "1         False   False    False       False    False  False  False     False   \n",
       "2         False   False    False       False    False  False  False     False   \n",
       "3         False   False    False       False    False  False  False     False   \n",
       "4         False   False    False       False    False  False  False     False   \n",
       "...         ...     ...      ...         ...      ...    ...    ...       ...   \n",
       "10881     False   False    False       False    False  False  False     False   \n",
       "10882     False   False    False       False    False  False  False     False   \n",
       "10883     False   False    False       False    False  False  False     False   \n",
       "10884     False   False    False       False    False  False  False     False   \n",
       "10885     False   False    False       False    False  False  False     False   \n",
       "\n",
       "       windspeed  casual  registered  count  \n",
       "0          False   False       False  False  \n",
       "1          False   False       False  False  \n",
       "2          False   False       False  False  \n",
       "3          False   False       False  False  \n",
       "4          False   False       False  False  \n",
       "...          ...     ...         ...    ...  \n",
       "10881      False   False       False  False  \n",
       "10882      False   False       False  False  \n",
       "10883      False   False       False  False  \n",
       "10884      False   False       False  False  \n",
       "10885      False   False       False  False  \n",
       "\n",
       "[10886 rows x 12 columns]"
      ]
     },
     "execution_count": 31,
     "metadata": {},
     "output_type": "execute_result"
    }
   ],
   "source": [
    "df.isna() #isna function checks each record and returns True if any value is missing else False"
   ]
  },
  {
   "cell_type": "code",
   "execution_count": null,
   "metadata": {
    "colab": {
     "base_uri": "https://localhost:8080/",
     "height": 460
    },
    "id": "Uus1mAUBK7mQ",
    "outputId": "80273fae-a423-4a9e-acd3-9d7baaffa966"
   },
   "outputs": [
    {
     "data": {
      "text/html": [
       "<div>\n",
       "<style scoped>\n",
       "    .dataframe tbody tr th:only-of-type {\n",
       "        vertical-align: middle;\n",
       "    }\n",
       "\n",
       "    .dataframe tbody tr th {\n",
       "        vertical-align: top;\n",
       "    }\n",
       "\n",
       "    .dataframe thead th {\n",
       "        text-align: right;\n",
       "    }\n",
       "</style>\n",
       "<table border=\"1\" class=\"dataframe\">\n",
       "  <thead>\n",
       "    <tr style=\"text-align: right;\">\n",
       "      <th></th>\n",
       "      <th>0</th>\n",
       "    </tr>\n",
       "  </thead>\n",
       "  <tbody>\n",
       "    <tr>\n",
       "      <th>datetime</th>\n",
       "      <td>0</td>\n",
       "    </tr>\n",
       "    <tr>\n",
       "      <th>season</th>\n",
       "      <td>0</td>\n",
       "    </tr>\n",
       "    <tr>\n",
       "      <th>holiday</th>\n",
       "      <td>0</td>\n",
       "    </tr>\n",
       "    <tr>\n",
       "      <th>workingday</th>\n",
       "      <td>0</td>\n",
       "    </tr>\n",
       "    <tr>\n",
       "      <th>weather</th>\n",
       "      <td>0</td>\n",
       "    </tr>\n",
       "    <tr>\n",
       "      <th>temp</th>\n",
       "      <td>0</td>\n",
       "    </tr>\n",
       "    <tr>\n",
       "      <th>atemp</th>\n",
       "      <td>0</td>\n",
       "    </tr>\n",
       "    <tr>\n",
       "      <th>humidity</th>\n",
       "      <td>0</td>\n",
       "    </tr>\n",
       "    <tr>\n",
       "      <th>windspeed</th>\n",
       "      <td>0</td>\n",
       "    </tr>\n",
       "    <tr>\n",
       "      <th>casual</th>\n",
       "      <td>0</td>\n",
       "    </tr>\n",
       "    <tr>\n",
       "      <th>registered</th>\n",
       "      <td>0</td>\n",
       "    </tr>\n",
       "    <tr>\n",
       "      <th>count</th>\n",
       "      <td>0</td>\n",
       "    </tr>\n",
       "  </tbody>\n",
       "</table>\n",
       "</div><br><label><b>dtype:</b> int64</label>"
      ],
      "text/plain": [
       "datetime      0\n",
       "season        0\n",
       "holiday       0\n",
       "workingday    0\n",
       "weather       0\n",
       "temp          0\n",
       "atemp         0\n",
       "humidity      0\n",
       "windspeed     0\n",
       "casual        0\n",
       "registered    0\n",
       "count         0\n",
       "dtype: int64"
      ]
     },
     "execution_count": 32,
     "metadata": {},
     "output_type": "execute_result"
    }
   ],
   "source": [
    "df.isna().sum() #isna.sum() returns the total missing value count of each columns"
   ]
  },
  {
   "cell_type": "code",
   "execution_count": null,
   "metadata": {
    "colab": {
     "base_uri": "https://localhost:8080/"
    },
    "id": "CxKU9xgULKO5",
    "outputId": "78cea568-ffcb-4605-fe92-99c074b703b6"
   },
   "outputs": [
    {
     "data": {
      "text/plain": [
       "np.int64(0)"
      ]
     },
     "execution_count": 35,
     "metadata": {},
     "output_type": "execute_result"
    }
   ],
   "source": [
    "df.isna().sum().sum() #isna.sum().sum() returns the total missing value count present in the dataset"
   ]
  },
  {
   "cell_type": "markdown",
   "metadata": {
    "id": "vcfEJSajLwyO"
   },
   "source": [
    "**Statistical summary**\n",
    "\n",
    "Observations from the below output:\n",
    "*   Data available in this dataset is from 2011-01-01 to 2012-12-19.\n",
    "*   Min, max and mean temperature observed are 0.8, 41.0 and 20.2 degree Centigrade.\n",
    "*   Whereas Min, max and mean feels like temperature observed are 0.7, 45.4 and 23.6 degree Centigrade.\n",
    "*   Min, max and mean humidity measured are 0, 100 are 61.8\n",
    "*   Min, max and mean wind speed seen are 0, 56.9 are 12.79 assuming the unit as KM/H(kilometer per hour).\n",
    "*   Average casual customer booking is 36.\n",
    "*   Whereas average registered customer booking is 155.55\n",
    "*   Total average booking 191.5"
   ]
  },
  {
   "cell_type": "code",
   "execution_count": null,
   "metadata": {
    "colab": {
     "base_uri": "https://localhost:8080/",
     "height": 317
    },
    "id": "lAYGAAahL8y9",
    "outputId": "4632f34d-77e4-46a5-f71a-1f3acea25ea3"
   },
   "outputs": [
    {
     "data": {
      "application/vnd.google.colaboratory.intrinsic+json": {
       "summary": "{\n  \"name\": \"df\",\n  \"rows\": 8,\n  \"fields\": [\n    {\n      \"column\": \"datetime\",\n      \"properties\": {\n        \"dtype\": \"date\",\n        \"min\": \"1970-01-01 00:00:00.000010886\",\n        \"max\": \"2012-12-19 23:00:00\",\n        \"num_unique_values\": 7,\n        \"samples\": [\n          \"10886\",\n          \"2011-12-27 05:56:22.399411968\",\n          \"2012-07-01 12:45:00\"\n        ],\n        \"semantic_type\": \"\",\n        \"description\": \"\"\n      }\n    },\n    {\n      \"column\": \"season\",\n      \"properties\": {\n        \"dtype\": \"number\",\n        \"std\": 3847.8922948663444,\n        \"min\": 1.0,\n        \"max\": 10886.0,\n        \"num_unique_values\": 7,\n        \"samples\": [\n          10886.0,\n          2.5066139996325556,\n          4.0\n        ],\n        \"semantic_type\": \"\",\n        \"description\": \"\"\n      }\n    },\n    {\n      \"column\": \"holiday\",\n      \"properties\": {\n        \"dtype\": \"number\",\n        \"std\": 3848.721860218128,\n        \"min\": 0.0,\n        \"max\": 10886.0,\n        \"num_unique_values\": 5,\n        \"samples\": [\n          0.02856880396839978,\n          0.16659885062471985,\n          0.0\n        ],\n        \"semantic_type\": \"\",\n        \"description\": \"\"\n      }\n    },\n    {\n      \"column\": \"workingday\",\n      \"properties\": {\n        \"dtype\": \"number\",\n        \"std\": 3848.5727758849694,\n        \"min\": 0.0,\n        \"max\": 10886.0,\n        \"num_unique_values\": 5,\n        \"samples\": [\n          0.6808745177291935,\n          0.4661591687997421,\n          0.0\n        ],\n        \"semantic_type\": \"\",\n        \"description\": \"\"\n      }\n    },\n    {\n      \"column\": \"weather\",\n      \"properties\": {\n        \"dtype\": \"number\",\n        \"std\": 3848.2241340817272,\n        \"min\": 0.6338385858190921,\n        \"max\": 10886.0,\n        \"num_unique_values\": 6,\n        \"samples\": [\n          10886.0,\n          1.418427337865148,\n          0.6338385858190921\n        ],\n        \"semantic_type\": \"\",\n        \"description\": \"\"\n      }\n    },\n    {\n      \"column\": \"temp\",\n      \"properties\": {\n        \"dtype\": \"number\",\n        \"std\": 3842.2088126431295,\n        \"min\": 0.82,\n        \"max\": 10886.0,\n        \"num_unique_values\": 8,\n        \"samples\": [\n          20.23085981995223,\n          26.24,\n          10886.0\n        ],\n        \"semantic_type\": \"\",\n        \"description\": \"\"\n      }\n    },\n    {\n      \"column\": \"atemp\",\n      \"properties\": {\n        \"dtype\": \"number\",\n        \"std\": 3841.214609020895,\n        \"min\": 0.76,\n        \"max\": 10886.0,\n        \"num_unique_values\": 8,\n        \"samples\": [\n          23.655084052912,\n          31.06,\n          10886.0\n        ],\n        \"semantic_type\": \"\",\n        \"description\": \"\"\n      }\n    },\n    {\n      \"column\": \"humidity\",\n      \"properties\": {\n        \"dtype\": \"number\",\n        \"std\": 3830.3684503021896,\n        \"min\": 0.0,\n        \"max\": 10886.0,\n        \"num_unique_values\": 8,\n        \"samples\": [\n          61.88645967297446,\n          77.0,\n          10886.0\n        ],\n        \"semantic_type\": \"\",\n        \"description\": \"\"\n      }\n    },\n    {\n      \"column\": \"windspeed\",\n      \"properties\": {\n        \"dtype\": \"number\",\n        \"std\": 3843.014939445678,\n        \"min\": 0.0,\n        \"max\": 10886.0,\n        \"num_unique_values\": 8,\n        \"samples\": [\n          12.7993954069447,\n          16.9979,\n          10886.0\n        ],\n        \"semantic_type\": \"\",\n        \"description\": \"\"\n      }\n    },\n    {\n      \"column\": \"casual\",\n      \"properties\": {\n        \"dtype\": \"number\",\n        \"std\": 3824.2753676913135,\n        \"min\": 0.0,\n        \"max\": 10886.0,\n        \"num_unique_values\": 8,\n        \"samples\": [\n          36.02195480433584,\n          49.0,\n          10886.0\n        ],\n        \"semantic_type\": \"\",\n        \"description\": \"\"\n      }\n    },\n    {\n      \"column\": \"registered\",\n      \"properties\": {\n        \"dtype\": \"number\",\n        \"std\": 3779.869612125704,\n        \"min\": 0.0,\n        \"max\": 10886.0,\n        \"num_unique_values\": 8,\n        \"samples\": [\n          155.5521771082124,\n          222.0,\n          10886.0\n        ],\n        \"semantic_type\": \"\",\n        \"description\": \"\"\n      }\n    },\n    {\n      \"column\": \"count\",\n      \"properties\": {\n        \"dtype\": \"number\",\n        \"std\": 3769.174237043881,\n        \"min\": 1.0,\n        \"max\": 10886.0,\n        \"num_unique_values\": 8,\n        \"samples\": [\n          191.57413191254824,\n          284.0,\n          10886.0\n        ],\n        \"semantic_type\": \"\",\n        \"description\": \"\"\n      }\n    }\n  ]\n}",
       "type": "dataframe"
      },
      "text/html": [
       "\n",
       "  <div id=\"df-4a4d262f-b504-46c5-948d-183aac671534\" class=\"colab-df-container\">\n",
       "    <div>\n",
       "<style scoped>\n",
       "    .dataframe tbody tr th:only-of-type {\n",
       "        vertical-align: middle;\n",
       "    }\n",
       "\n",
       "    .dataframe tbody tr th {\n",
       "        vertical-align: top;\n",
       "    }\n",
       "\n",
       "    .dataframe thead th {\n",
       "        text-align: right;\n",
       "    }\n",
       "</style>\n",
       "<table border=\"1\" class=\"dataframe\">\n",
       "  <thead>\n",
       "    <tr style=\"text-align: right;\">\n",
       "      <th></th>\n",
       "      <th>datetime</th>\n",
       "      <th>season</th>\n",
       "      <th>holiday</th>\n",
       "      <th>workingday</th>\n",
       "      <th>weather</th>\n",
       "      <th>temp</th>\n",
       "      <th>atemp</th>\n",
       "      <th>humidity</th>\n",
       "      <th>windspeed</th>\n",
       "      <th>casual</th>\n",
       "      <th>registered</th>\n",
       "      <th>count</th>\n",
       "    </tr>\n",
       "  </thead>\n",
       "  <tbody>\n",
       "    <tr>\n",
       "      <th>count</th>\n",
       "      <td>10886</td>\n",
       "      <td>10886.000000</td>\n",
       "      <td>10886.000000</td>\n",
       "      <td>10886.000000</td>\n",
       "      <td>10886.000000</td>\n",
       "      <td>10886.00000</td>\n",
       "      <td>10886.000000</td>\n",
       "      <td>10886.000000</td>\n",
       "      <td>10886.000000</td>\n",
       "      <td>10886.000000</td>\n",
       "      <td>10886.000000</td>\n",
       "      <td>10886.000000</td>\n",
       "    </tr>\n",
       "    <tr>\n",
       "      <th>mean</th>\n",
       "      <td>2011-12-27 05:56:22.399411968</td>\n",
       "      <td>2.506614</td>\n",
       "      <td>0.028569</td>\n",
       "      <td>0.680875</td>\n",
       "      <td>1.418427</td>\n",
       "      <td>20.23086</td>\n",
       "      <td>23.655084</td>\n",
       "      <td>61.886460</td>\n",
       "      <td>12.799395</td>\n",
       "      <td>36.021955</td>\n",
       "      <td>155.552177</td>\n",
       "      <td>191.574132</td>\n",
       "    </tr>\n",
       "    <tr>\n",
       "      <th>min</th>\n",
       "      <td>2011-01-01 00:00:00</td>\n",
       "      <td>1.000000</td>\n",
       "      <td>0.000000</td>\n",
       "      <td>0.000000</td>\n",
       "      <td>1.000000</td>\n",
       "      <td>0.82000</td>\n",
       "      <td>0.760000</td>\n",
       "      <td>0.000000</td>\n",
       "      <td>0.000000</td>\n",
       "      <td>0.000000</td>\n",
       "      <td>0.000000</td>\n",
       "      <td>1.000000</td>\n",
       "    </tr>\n",
       "    <tr>\n",
       "      <th>25%</th>\n",
       "      <td>2011-07-02 07:15:00</td>\n",
       "      <td>2.000000</td>\n",
       "      <td>0.000000</td>\n",
       "      <td>0.000000</td>\n",
       "      <td>1.000000</td>\n",
       "      <td>13.94000</td>\n",
       "      <td>16.665000</td>\n",
       "      <td>47.000000</td>\n",
       "      <td>7.001500</td>\n",
       "      <td>4.000000</td>\n",
       "      <td>36.000000</td>\n",
       "      <td>42.000000</td>\n",
       "    </tr>\n",
       "    <tr>\n",
       "      <th>50%</th>\n",
       "      <td>2012-01-01 20:30:00</td>\n",
       "      <td>3.000000</td>\n",
       "      <td>0.000000</td>\n",
       "      <td>1.000000</td>\n",
       "      <td>1.000000</td>\n",
       "      <td>20.50000</td>\n",
       "      <td>24.240000</td>\n",
       "      <td>62.000000</td>\n",
       "      <td>12.998000</td>\n",
       "      <td>17.000000</td>\n",
       "      <td>118.000000</td>\n",
       "      <td>145.000000</td>\n",
       "    </tr>\n",
       "    <tr>\n",
       "      <th>75%</th>\n",
       "      <td>2012-07-01 12:45:00</td>\n",
       "      <td>4.000000</td>\n",
       "      <td>0.000000</td>\n",
       "      <td>1.000000</td>\n",
       "      <td>2.000000</td>\n",
       "      <td>26.24000</td>\n",
       "      <td>31.060000</td>\n",
       "      <td>77.000000</td>\n",
       "      <td>16.997900</td>\n",
       "      <td>49.000000</td>\n",
       "      <td>222.000000</td>\n",
       "      <td>284.000000</td>\n",
       "    </tr>\n",
       "    <tr>\n",
       "      <th>max</th>\n",
       "      <td>2012-12-19 23:00:00</td>\n",
       "      <td>4.000000</td>\n",
       "      <td>1.000000</td>\n",
       "      <td>1.000000</td>\n",
       "      <td>4.000000</td>\n",
       "      <td>41.00000</td>\n",
       "      <td>45.455000</td>\n",
       "      <td>100.000000</td>\n",
       "      <td>56.996900</td>\n",
       "      <td>367.000000</td>\n",
       "      <td>886.000000</td>\n",
       "      <td>977.000000</td>\n",
       "    </tr>\n",
       "    <tr>\n",
       "      <th>std</th>\n",
       "      <td>NaN</td>\n",
       "      <td>1.116174</td>\n",
       "      <td>0.166599</td>\n",
       "      <td>0.466159</td>\n",
       "      <td>0.633839</td>\n",
       "      <td>7.79159</td>\n",
       "      <td>8.474601</td>\n",
       "      <td>19.245033</td>\n",
       "      <td>8.164537</td>\n",
       "      <td>49.960477</td>\n",
       "      <td>151.039033</td>\n",
       "      <td>181.144454</td>\n",
       "    </tr>\n",
       "  </tbody>\n",
       "</table>\n",
       "</div>\n",
       "    <div class=\"colab-df-buttons\">\n",
       "\n",
       "  <div class=\"colab-df-container\">\n",
       "    <button class=\"colab-df-convert\" onclick=\"convertToInteractive('df-4a4d262f-b504-46c5-948d-183aac671534')\"\n",
       "            title=\"Convert this dataframe to an interactive table.\"\n",
       "            style=\"display:none;\">\n",
       "\n",
       "  <svg xmlns=\"http://www.w3.org/2000/svg\" height=\"24px\" viewBox=\"0 -960 960 960\">\n",
       "    <path d=\"M120-120v-720h720v720H120Zm60-500h600v-160H180v160Zm220 220h160v-160H400v160Zm0 220h160v-160H400v160ZM180-400h160v-160H180v160Zm440 0h160v-160H620v160ZM180-180h160v-160H180v160Zm440 0h160v-160H620v160Z\"/>\n",
       "  </svg>\n",
       "    </button>\n",
       "\n",
       "  <style>\n",
       "    .colab-df-container {\n",
       "      display:flex;\n",
       "      gap: 12px;\n",
       "    }\n",
       "\n",
       "    .colab-df-convert {\n",
       "      background-color: #E8F0FE;\n",
       "      border: none;\n",
       "      border-radius: 50%;\n",
       "      cursor: pointer;\n",
       "      display: none;\n",
       "      fill: #1967D2;\n",
       "      height: 32px;\n",
       "      padding: 0 0 0 0;\n",
       "      width: 32px;\n",
       "    }\n",
       "\n",
       "    .colab-df-convert:hover {\n",
       "      background-color: #E2EBFA;\n",
       "      box-shadow: 0px 1px 2px rgba(60, 64, 67, 0.3), 0px 1px 3px 1px rgba(60, 64, 67, 0.15);\n",
       "      fill: #174EA6;\n",
       "    }\n",
       "\n",
       "    .colab-df-buttons div {\n",
       "      margin-bottom: 4px;\n",
       "    }\n",
       "\n",
       "    [theme=dark] .colab-df-convert {\n",
       "      background-color: #3B4455;\n",
       "      fill: #D2E3FC;\n",
       "    }\n",
       "\n",
       "    [theme=dark] .colab-df-convert:hover {\n",
       "      background-color: #434B5C;\n",
       "      box-shadow: 0px 1px 3px 1px rgba(0, 0, 0, 0.15);\n",
       "      filter: drop-shadow(0px 1px 2px rgba(0, 0, 0, 0.3));\n",
       "      fill: #FFFFFF;\n",
       "    }\n",
       "  </style>\n",
       "\n",
       "    <script>\n",
       "      const buttonEl =\n",
       "        document.querySelector('#df-4a4d262f-b504-46c5-948d-183aac671534 button.colab-df-convert');\n",
       "      buttonEl.style.display =\n",
       "        google.colab.kernel.accessAllowed ? 'block' : 'none';\n",
       "\n",
       "      async function convertToInteractive(key) {\n",
       "        const element = document.querySelector('#df-4a4d262f-b504-46c5-948d-183aac671534');\n",
       "        const dataTable =\n",
       "          await google.colab.kernel.invokeFunction('convertToInteractive',\n",
       "                                                    [key], {});\n",
       "        if (!dataTable) return;\n",
       "\n",
       "        const docLinkHtml = 'Like what you see? Visit the ' +\n",
       "          '<a target=\"_blank\" href=https://colab.research.google.com/notebooks/data_table.ipynb>data table notebook</a>'\n",
       "          + ' to learn more about interactive tables.';\n",
       "        element.innerHTML = '';\n",
       "        dataTable['output_type'] = 'display_data';\n",
       "        await google.colab.output.renderOutput(dataTable, element);\n",
       "        const docLink = document.createElement('div');\n",
       "        docLink.innerHTML = docLinkHtml;\n",
       "        element.appendChild(docLink);\n",
       "      }\n",
       "    </script>\n",
       "  </div>\n",
       "\n",
       "\n",
       "<div id=\"df-80d65e59-61b8-46ab-9d48-ca53d7e68313\">\n",
       "  <button class=\"colab-df-quickchart\" onclick=\"quickchart('df-80d65e59-61b8-46ab-9d48-ca53d7e68313')\"\n",
       "            title=\"Suggest charts\"\n",
       "            style=\"display:none;\">\n",
       "\n",
       "<svg xmlns=\"http://www.w3.org/2000/svg\" height=\"24px\"viewBox=\"0 0 24 24\"\n",
       "     width=\"24px\">\n",
       "    <g>\n",
       "        <path d=\"M19 3H5c-1.1 0-2 .9-2 2v14c0 1.1.9 2 2 2h14c1.1 0 2-.9 2-2V5c0-1.1-.9-2-2-2zM9 17H7v-7h2v7zm4 0h-2V7h2v10zm4 0h-2v-4h2v4z\"/>\n",
       "    </g>\n",
       "</svg>\n",
       "  </button>\n",
       "\n",
       "<style>\n",
       "  .colab-df-quickchart {\n",
       "      --bg-color: #E8F0FE;\n",
       "      --fill-color: #1967D2;\n",
       "      --hover-bg-color: #E2EBFA;\n",
       "      --hover-fill-color: #174EA6;\n",
       "      --disabled-fill-color: #AAA;\n",
       "      --disabled-bg-color: #DDD;\n",
       "  }\n",
       "\n",
       "  [theme=dark] .colab-df-quickchart {\n",
       "      --bg-color: #3B4455;\n",
       "      --fill-color: #D2E3FC;\n",
       "      --hover-bg-color: #434B5C;\n",
       "      --hover-fill-color: #FFFFFF;\n",
       "      --disabled-bg-color: #3B4455;\n",
       "      --disabled-fill-color: #666;\n",
       "  }\n",
       "\n",
       "  .colab-df-quickchart {\n",
       "    background-color: var(--bg-color);\n",
       "    border: none;\n",
       "    border-radius: 50%;\n",
       "    cursor: pointer;\n",
       "    display: none;\n",
       "    fill: var(--fill-color);\n",
       "    height: 32px;\n",
       "    padding: 0;\n",
       "    width: 32px;\n",
       "  }\n",
       "\n",
       "  .colab-df-quickchart:hover {\n",
       "    background-color: var(--hover-bg-color);\n",
       "    box-shadow: 0 1px 2px rgba(60, 64, 67, 0.3), 0 1px 3px 1px rgba(60, 64, 67, 0.15);\n",
       "    fill: var(--button-hover-fill-color);\n",
       "  }\n",
       "\n",
       "  .colab-df-quickchart-complete:disabled,\n",
       "  .colab-df-quickchart-complete:disabled:hover {\n",
       "    background-color: var(--disabled-bg-color);\n",
       "    fill: var(--disabled-fill-color);\n",
       "    box-shadow: none;\n",
       "  }\n",
       "\n",
       "  .colab-df-spinner {\n",
       "    border: 2px solid var(--fill-color);\n",
       "    border-color: transparent;\n",
       "    border-bottom-color: var(--fill-color);\n",
       "    animation:\n",
       "      spin 1s steps(1) infinite;\n",
       "  }\n",
       "\n",
       "  @keyframes spin {\n",
       "    0% {\n",
       "      border-color: transparent;\n",
       "      border-bottom-color: var(--fill-color);\n",
       "      border-left-color: var(--fill-color);\n",
       "    }\n",
       "    20% {\n",
       "      border-color: transparent;\n",
       "      border-left-color: var(--fill-color);\n",
       "      border-top-color: var(--fill-color);\n",
       "    }\n",
       "    30% {\n",
       "      border-color: transparent;\n",
       "      border-left-color: var(--fill-color);\n",
       "      border-top-color: var(--fill-color);\n",
       "      border-right-color: var(--fill-color);\n",
       "    }\n",
       "    40% {\n",
       "      border-color: transparent;\n",
       "      border-right-color: var(--fill-color);\n",
       "      border-top-color: var(--fill-color);\n",
       "    }\n",
       "    60% {\n",
       "      border-color: transparent;\n",
       "      border-right-color: var(--fill-color);\n",
       "    }\n",
       "    80% {\n",
       "      border-color: transparent;\n",
       "      border-right-color: var(--fill-color);\n",
       "      border-bottom-color: var(--fill-color);\n",
       "    }\n",
       "    90% {\n",
       "      border-color: transparent;\n",
       "      border-bottom-color: var(--fill-color);\n",
       "    }\n",
       "  }\n",
       "</style>\n",
       "\n",
       "  <script>\n",
       "    async function quickchart(key) {\n",
       "      const quickchartButtonEl =\n",
       "        document.querySelector('#' + key + ' button');\n",
       "      quickchartButtonEl.disabled = true;  // To prevent multiple clicks.\n",
       "      quickchartButtonEl.classList.add('colab-df-spinner');\n",
       "      try {\n",
       "        const charts = await google.colab.kernel.invokeFunction(\n",
       "            'suggestCharts', [key], {});\n",
       "      } catch (error) {\n",
       "        console.error('Error during call to suggestCharts:', error);\n",
       "      }\n",
       "      quickchartButtonEl.classList.remove('colab-df-spinner');\n",
       "      quickchartButtonEl.classList.add('colab-df-quickchart-complete');\n",
       "    }\n",
       "    (() => {\n",
       "      let quickchartButtonEl =\n",
       "        document.querySelector('#df-80d65e59-61b8-46ab-9d48-ca53d7e68313 button');\n",
       "      quickchartButtonEl.style.display =\n",
       "        google.colab.kernel.accessAllowed ? 'block' : 'none';\n",
       "    })();\n",
       "  </script>\n",
       "</div>\n",
       "\n",
       "    </div>\n",
       "  </div>\n"
      ],
      "text/plain": [
       "                            datetime        season       holiday  \\\n",
       "count                          10886  10886.000000  10886.000000   \n",
       "mean   2011-12-27 05:56:22.399411968      2.506614      0.028569   \n",
       "min              2011-01-01 00:00:00      1.000000      0.000000   \n",
       "25%              2011-07-02 07:15:00      2.000000      0.000000   \n",
       "50%              2012-01-01 20:30:00      3.000000      0.000000   \n",
       "75%              2012-07-01 12:45:00      4.000000      0.000000   \n",
       "max              2012-12-19 23:00:00      4.000000      1.000000   \n",
       "std                              NaN      1.116174      0.166599   \n",
       "\n",
       "         workingday       weather         temp         atemp      humidity  \\\n",
       "count  10886.000000  10886.000000  10886.00000  10886.000000  10886.000000   \n",
       "mean       0.680875      1.418427     20.23086     23.655084     61.886460   \n",
       "min        0.000000      1.000000      0.82000      0.760000      0.000000   \n",
       "25%        0.000000      1.000000     13.94000     16.665000     47.000000   \n",
       "50%        1.000000      1.000000     20.50000     24.240000     62.000000   \n",
       "75%        1.000000      2.000000     26.24000     31.060000     77.000000   \n",
       "max        1.000000      4.000000     41.00000     45.455000    100.000000   \n",
       "std        0.466159      0.633839      7.79159      8.474601     19.245033   \n",
       "\n",
       "          windspeed        casual    registered         count  \n",
       "count  10886.000000  10886.000000  10886.000000  10886.000000  \n",
       "mean      12.799395     36.021955    155.552177    191.574132  \n",
       "min        0.000000      0.000000      0.000000      1.000000  \n",
       "25%        7.001500      4.000000     36.000000     42.000000  \n",
       "50%       12.998000     17.000000    118.000000    145.000000  \n",
       "75%       16.997900     49.000000    222.000000    284.000000  \n",
       "max       56.996900    367.000000    886.000000    977.000000  \n",
       "std        8.164537     49.960477    151.039033    181.144454  "
      ]
     },
     "execution_count": 36,
     "metadata": {},
     "output_type": "execute_result"
    }
   ],
   "source": [
    "df.describe() #describe function returns the count, mean, min,  25%, 50%, 75%, max and standard deviation of all the numerical attributes"
   ]
  },
  {
   "cell_type": "markdown",
   "metadata": {
    "id": "fCRR1t5bTNJ-"
   },
   "source": [
    "**Useful insights from the above observations:**\n",
    "*   There are 10886 rows and 12 columns present in the dataset.\n",
    "*   There are zero missing/Null value present in the dataset.\n",
    "*   Data available in this dataset is from 2011-01-01 to 2012-12-19.\n",
    "*   Min, max and mean temperature observed are 0.8, 41.0 and 20.2 degree Centigrade.\n",
    "*   Min, max and mean humidity measured are 0, 100 are 61.8\n",
    "*   Min, max and mean wind speed seen are 0, 56.9 are 12.79 assuming the unit as KM/H(kilometer per hour)."
   ]
  },
  {
   "cell_type": "markdown",
   "metadata": {
    "id": "-BHRl5KkV9HL"
   },
   "source": [
    "**Univariate Analysis (distribution plots of all the continuous variable(s) barplots/countplots of all the categorical variables)**"
   ]
  },
  {
   "cell_type": "markdown",
   "metadata": {
    "id": "3FL9npoRWKqR"
   },
   "source": [
    "Before we start on visual analysis, data should be in the correct format for us to use it as the input. This preparation of the data by identifying and resolving the potential errors, inaccuracies, and inconsistencies is termed as Data Cleaning.\n",
    "\n",
    "    1: Identifying and resolving the potential errors:\n",
    "    2: Identifying inaccuracies:\n",
    "    3: Identifying inconsistencies:"
   ]
  },
  {
   "cell_type": "markdown",
   "metadata": {
    "id": "7spNXXzSWlMg"
   },
   "source": [
    "**Univariate data:**\n",
    "\n",
    "Univariate data refers to a type of data in which each observation or data point corresponds to a single variable. In other words, it involves the measurement or observation of a single characteristic or attribute for each individual or item in the dataset. Analysing univariate data is the simplest form of analysis in statistics."
   ]
  },
  {
   "cell_type": "markdown",
   "metadata": {
    "id": "rjIJ_wM2W-ap"
   },
   "source": [
    "**Distplot:** is designed to visualize the distribution of a univariate set of observations, meaning it takes a series of data points from a single variable and displays their distribution. The function combines the histogram plotting capabilities of Matplotlib with Seaborn's kernel density estimation (KDE) and rugplot features."
   ]
  },
  {
   "cell_type": "code",
   "execution_count": null,
   "metadata": {
    "id": "-EdU14OlXNn1"
   },
   "outputs": [],
   "source": [
    "#To hide the warnings we are using the below code\n",
    "import warnings\n",
    "warnings.filterwarnings('ignore')"
   ]
  },
  {
   "cell_type": "code",
   "execution_count": null,
   "metadata": {
    "colab": {
     "base_uri": "https://localhost:8080/",
     "height": 472
    },
    "id": "-agRjnagYf31",
    "outputId": "8a96c8ac-d6a1-4ae3-a901-189066d26eb3"
   },
   "outputs": [
    {
     "data": {
      "image/png": "[encoded data removed]",
      "text/plain": [
       "<Figure size 640x480 with 1 Axes>"
      ]
     },
     "metadata": {},
     "output_type": "display_data"
    }
   ],
   "source": [
    "#Here we are using distplot to analyse the 'temp' column\n",
    "plt.title(\"Temperature Density\")\n",
    "sns.distplot(df['temp'],color='orange')\n",
    "plt.show()"
   ]
  },
  {
   "cell_type": "markdown",
   "metadata": {
    "id": "hYpiA6MhKXS9"
   },
   "source": [
    "From the above Temperature Distribution plot we can see that data is concentrated from 15 to 25 degree celcius."
   ]
  },
  {
   "cell_type": "code",
   "execution_count": null,
   "metadata": {
    "colab": {
     "base_uri": "https://localhost:8080/",
     "height": 472
    },
    "id": "jgCq_7PfXQo4",
    "outputId": "4e5a1f7e-cdda-4e00-f568-ff1dae2355cb"
   },
   "outputs": [
    {
     "data": {
      "image/png": "[encoded data removed]",
      "text/plain": [
       "<Figure size 640x480 with 1 Axes>"
      ]
     },
     "metadata": {},
     "output_type": "display_data"
    }
   ],
   "source": [
    "#Here we are using distplot to analyse the 'atemp' column\n",
    "plt.title(\"Feels like Temperature Density\")\n",
    "sns.distplot(df['atemp'],color='red')\n",
    "plt.show()"
   ]
  },
  {
   "cell_type": "markdown",
   "metadata": {
    "id": "fRe3_lBjLOLJ"
   },
   "source": [
    "Whereas from the above feels like temperature we can see the mean is between 20-30 degree celcius."
   ]
  },
  {
   "cell_type": "code",
   "execution_count": null,
   "metadata": {
    "colab": {
     "base_uri": "https://localhost:8080/",
     "height": 472
    },
    "id": "Y7asn6Y_YKJi",
    "outputId": "d75f8194-a64c-4008-c85a-02283eb0551f"
   },
   "outputs": [
    {
     "data": {
      "image/png": "[encoded data removed]",
      "text/plain": [
       "<Figure size 640x480 with 1 Axes>"
      ]
     },
     "metadata": {},
     "output_type": "display_data"
    }
   ],
   "source": [
    "#Here we are using distplot to analyse the 'Humildity' column\n",
    "plt.title(\"Humidity Density\")\n",
    "sns.distplot(df['humidity'],color='purple')\n",
    "plt.show()"
   ]
  },
  {
   "cell_type": "markdown",
   "metadata": {
    "id": "DlmATrqALsD8"
   },
   "source": [
    "Looking at the above Humidity distribution plot the graph is left skewed and the mean lies in the range of 55-65."
   ]
  },
  {
   "cell_type": "code",
   "execution_count": null,
   "metadata": {
    "colab": {
     "base_uri": "https://localhost:8080/",
     "height": 472
    },
    "id": "hAmw9ED8Zbo_",
    "outputId": "b00e7b4e-481e-46dc-aed6-af67a67a41b1"
   },
   "outputs": [
    {
     "data": {
      "image/png": "[encoded data removed]",
      "text/plain": [
       "<Figure size 640x480 with 1 Axes>"
      ]
     },
     "metadata": {},
     "output_type": "display_data"
    }
   ],
   "source": [
    "#Here we are using distplot to analyse the 'windspeed' column\n",
    "plt.title(\"Windspeed Density\")\n",
    "sns.distplot(df['windspeed'],color='blue')\n",
    "plt.show()"
   ]
  },
  {
   "cell_type": "markdown",
   "metadata": {
    "id": "Vn_xkxFIMaII"
   },
   "source": [
    "The above windspeed distribution graph looks somewhat right skewed where the means lies between 5-15 Km/h."
   ]
  },
  {
   "cell_type": "markdown",
   "metadata": {
    "id": "Uva2SYPAZ5f1"
   },
   "source": [
    "**Countplot:** method is used to Show the counts of observations in each categorical bin using bars."
   ]
  },
  {
   "cell_type": "code",
   "execution_count": null,
   "metadata": {
    "colab": {
     "base_uri": "https://localhost:8080/",
     "height": 487
    },
    "id": "FRF8fPf7Z7sM",
    "outputId": "afd049b0-3ad2-470b-9278-a2584e757de6"
   },
   "outputs": [
    {
     "data": {
      "image/png": "[encoded data removed]",
      "text/plain": [
       "<Figure size 800x500 with 1 Axes>"
      ]
     },
     "metadata": {},
     "output_type": "display_data"
    }
   ],
   "source": [
    "#Here we are using countplot to analyse the 'season' column\n",
    "plt.figure(figsize=(8,5))\n",
    "plt.title(\"Different season count\")\n",
    "ax = sns.countplot(x='season',hue='season',data=df) #plotting countplot\n",
    "ax.legend([\"Spring\",\"Summer\",\"Fall\",\"Winter\"])\n",
    "\n",
    "for i in ax.containers:\n",
    "  ax.bar_label(i,)\n",
    "\n",
    "plt.show()"
   ]
  },
  {
   "cell_type": "markdown",
   "metadata": {
    "id": "A6qUU0sAM5V4"
   },
   "source": [
    "From the above Different season countplot we can see that number of records for all the seasons are almost same."
   ]
  },
  {
   "cell_type": "code",
   "execution_count": null,
   "metadata": {
    "colab": {
     "base_uri": "https://localhost:8080/",
     "height": 472
    },
    "id": "MwEfdcfIbGOx",
    "outputId": "bb199e51-560c-4fbd-c40f-6a05f0663953"
   },
   "outputs": [
    {
     "data": {
      "image/png": "[encoded data removed]",
      "text/plain": [
       "<Figure size 640x480 with 1 Axes>"
      ]
     },
     "metadata": {},
     "output_type": "display_data"
    }
   ],
   "source": [
    "#Here we are using countplot to analyse the 'holiday' column\n",
    "\n",
    "plt.title(\"Holiday count\")\n",
    "ax = sns.countplot(x='holiday',hue='holiday',data=df) #plotting countplot\n",
    "ax.legend([\"Not a Holiday\",\"Holiday\"])\n",
    "\n",
    "for i in ax.containers:\n",
    "  ax.bar_label(i,)\n",
    "\n",
    "plt.show()"
   ]
  },
  {
   "cell_type": "markdown",
   "metadata": {
    "id": "XSkT1gVlOTDX"
   },
   "source": [
    "From the above holiday countplot we can see that there are 311 holiday records and 10575 non holiday record present in the dataset."
   ]
  },
  {
   "cell_type": "code",
   "execution_count": null,
   "metadata": {
    "colab": {
     "base_uri": "https://localhost:8080/",
     "height": 472
    },
    "id": "kQvrDZ3LcQsP",
    "outputId": "de33cc6f-f679-41cb-fbcd-3e4208824bdb"
   },
   "outputs": [
    {
     "data": {
      "image/png": "[encoded data removed]",
      "text/plain": [
       "<Figure size 640x480 with 1 Axes>"
      ]
     },
     "metadata": {},
     "output_type": "display_data"
    }
   ],
   "source": [
    "#Here we are using countplot to analyse the 'workingday' column\n",
    "\n",
    "plt.title(\"Workingday count\")\n",
    "ax = sns.countplot(x='workingday',hue='workingday',data=df,color=\"purple\") #plotting countplot\n",
    "ax.legend([\"Weekend/Holiday\",\"Not a Weekend/Holiday\"])\n",
    "\n",
    "for i in ax.containers:\n",
    "  ax.bar_label(i,)\n",
    "\n",
    "plt.show()"
   ]
  },
  {
   "cell_type": "markdown",
   "metadata": {
    "id": "jNr_e96TOvPg"
   },
   "source": [
    "From the above working day countplot we can see that there are 3474 weekend/holiday records and 7412 non weekend/holiday record present in the dataset."
   ]
  },
  {
   "cell_type": "code",
   "execution_count": null,
   "metadata": {
    "colab": {
     "base_uri": "https://localhost:8080/",
     "height": 564
    },
    "id": "-c6ySK6qccpJ",
    "outputId": "be12b044-616a-4da4-fa5a-b4a16fd624dc"
   },
   "outputs": [
    {
     "data": {
      "image/png": "[encoded data removed]",
      "text/plain": [
       "<Figure size 1200x600 with 1 Axes>"
      ]
     },
     "metadata": {},
     "output_type": "display_data"
    }
   ],
   "source": [
    "#Here we are using countplot to analyse the 'weather' column\n",
    "plt.figure(figsize=(12,6))\n",
    "plt.title(\"Weather Type count\")\n",
    "ax = sns.countplot(x='weather',hue='weather',data=df) #plotting countplot\n",
    "ax.legend([\"Clear, Few clouds, partly cloudy, partly cloudy\",\"Mist + Cloudy, Mist + Broken clouds, Mist + Few clouds, Mist\",\n",
    "           \"Light Snow, Light Rain + Thunderstorm + Scattered clouds, Light Rain + Scattered clouds\",\"Heavy Rain + Ice Pallets + Thunderstorm + Mist, Snow + Fog\"])\n",
    "\n",
    "for i in ax.containers:\n",
    "  ax.bar_label(i,)\n",
    "\n",
    "plt.show()"
   ]
  },
  {
   "cell_type": "markdown",
   "metadata": {
    "id": "E5I71AynPMlQ"
   },
   "source": [
    "From the weather countplot we can conclude that most of booking are done when the weather was \"Clear, Few clouds, partly cloudy, partly cloudy\"."
   ]
  },
  {
   "cell_type": "markdown",
   "metadata": {
    "id": "Ia7IjVnWdKtq"
   },
   "source": [
    "**Bivariate Analysis (Relationships between important variables such as workday and count, season and count, weather and count).**"
   ]
  },
  {
   "cell_type": "markdown",
   "metadata": {
    "id": "vNk8zUNBdS_i"
   },
   "source": [
    "**Bivariate data:** Bivariate data involves two different variables, and the analysis of this type of data focuses on understanding the relationship or association between these two variables."
   ]
  },
  {
   "cell_type": "code",
   "execution_count": null,
   "metadata": {
    "colab": {
     "base_uri": "https://localhost:8080/",
     "height": 472
    },
    "id": "GAIoLWEndU4x",
    "outputId": "13f1a908-c978-479e-dbb0-20e933309d27"
   },
   "outputs": [
    {
     "data": {
      "image/png": "[encoded data removed]",
      "text/plain": [
       "<Figure size 640x480 with 1 Axes>"
      ]
     },
     "metadata": {},
     "output_type": "display_data"
    }
   ],
   "source": [
    "#Here we are using barplot to analyse the 'season' and 'count' column\n",
    "\n",
    "plt.title(\"Season Vs Count\")\n",
    "ax = sns.barplot(x='season',hue='season',y='count',data=df,estimator = np.sum) #plotting barplot\n",
    "ax.legend([\"\",\"\",\"\",\"\",\"Spring\",\"Summer\",\"Fall\",\"Winter\"])\n",
    "\n",
    "for i in ax.containers:\n",
    "  ax.bar_label(i,)\n",
    "\n",
    "plt.show()"
   ]
  },
  {
   "cell_type": "markdown",
   "metadata": {
    "id": "Lhzac680QGmF"
   },
   "source": [
    "From the above Season vs Count barplot we can see that maximun number of bookings are done in the Fall season(September, October, and November)."
   ]
  },
  {
   "cell_type": "code",
   "execution_count": null,
   "metadata": {
    "colab": {
     "base_uri": "https://localhost:8080/",
     "height": 472
    },
    "id": "60twFoE-eede",
    "outputId": "9cde39d6-7144-4e12-8373-1e1366eddfaf"
   },
   "outputs": [
    {
     "data": {
      "image/png": "[encoded data removed]",
      "text/plain": [
       "<Figure size 640x480 with 1 Axes>"
      ]
     },
     "metadata": {},
     "output_type": "display_data"
    }
   ],
   "source": [
    "#Here we are using barplot to analyse the 'holiday' and 'count' column\n",
    "\n",
    "plt.title(\"Holiday Vs Count\")\n",
    "ax = sns.barplot(x='holiday',y='count',data=df,palette = \"Reds\") #plotting barplot\n",
    "ax.legend([\"\",\"\",\"Not a Holiday\",\"Holiday\"])\n",
    "\n",
    "for i in ax.containers:\n",
    "  ax.bar_label(i,)\n",
    "\n",
    "plt.show()"
   ]
  },
  {
   "cell_type": "markdown",
   "metadata": {
    "id": "7ohZfVM-RUVc"
   },
   "source": [
    "Since there is more records for non Holiday so we have taken mean and we can still see that on avergae on non holiday booking rate is slightly high."
   ]
  },
  {
   "cell_type": "code",
   "execution_count": null,
   "metadata": {
    "colab": {
     "base_uri": "https://localhost:8080/",
     "height": 472
    },
    "id": "TufOGvB-yxvm",
    "outputId": "d076899e-23e3-4f95-bc69-8bb10bbc6329"
   },
   "outputs": [
    {
     "data": {
      "image/png": "[encoded data removed]",
      "text/plain": [
       "<Figure size 640x480 with 1 Axes>"
      ]
     },
     "metadata": {},
     "output_type": "display_data"
    }
   ],
   "source": [
    "#Here we are using barplot to analyse the 'workingday' and 'count' column\n",
    "\n",
    "plt.title(\"Workingday Vs Count\")\n",
    "ax = sns.barplot(x='workingday',y='count',data=df,hue='workingday') #plotting barplot\n",
    "ax.legend([\"\",\"\",\"Weekend/Holiday\",\"Not a Weekend/Holiday\"])\n",
    "\n",
    "for i in ax.containers:\n",
    "  ax.bar_label(i,)\n",
    "\n",
    "plt.show()"
   ]
  },
  {
   "cell_type": "markdown",
   "metadata": {
    "id": "WI2LvYUqSPT8"
   },
   "source": [
    "Since there is more records for not weekend/Holiday so we have taken mean and we can still see that on avergae on non weekend/holiday booking rate is slightly high."
   ]
  },
  {
   "cell_type": "code",
   "execution_count": null,
   "metadata": {
    "colab": {
     "base_uri": "https://localhost:8080/",
     "height": 564
    },
    "id": "oPJgEyzc1iuY",
    "outputId": "f963874b-1555-45d2-85c4-fdb079097881"
   },
   "outputs": [
    {
     "data": {
      "image/png": "[encoded data removed]",
      "text/plain": [
       "<Figure size 1200x600 with 1 Axes>"
      ]
     },
     "metadata": {},
     "output_type": "display_data"
    }
   ],
   "source": [
    "#Here we are using barplot to analyse the 'weather' and 'count' column\n",
    "plt.figure(figsize=(12,6))\n",
    "plt.title(\"Weather Vs Count\")\n",
    "ax = sns.barplot(x='weather',y='count',data=df,hue='weather',estimator = np.sum) #plotting barplot\n",
    "ax.legend([\"\",\"\",\"\",\"\",\"Clear, Few clouds, partly cloudy, partly cloudy\",\"Mist + Cloudy, Mist + Broken clouds, Mist + Few clouds, Mist\",\n",
    "           \"Light Snow, Light Rain + Thunderstorm + Scattered clouds, Light Rain + Scattered clouds\",\"Heavy Rain + Ice Pallets + Thunderstorm + Mist, Snow + Fog\"])\n",
    "\n",
    "for i in ax.containers:\n",
    "  ax.bar_label(i,)\n",
    "\n",
    "plt.show()"
   ]
  },
  {
   "cell_type": "markdown",
   "metadata": {
    "id": "MtZoEDYDScyv"
   },
   "source": [
    "Majority of the booking was done during \"Clear, Few clouds, partly cloudy, partly cloudy\" weather conditons."
   ]
  },
  {
   "cell_type": "markdown",
   "metadata": {
    "id": "5NcX6UUT2mUy"
   },
   "source": [
    "**Illustrate the insights based on EDA**"
   ]
  },
  {
   "cell_type": "markdown",
   "metadata": {
    "id": "9JVlh6zi2oDB"
   },
   "source": [
    "**Comments on range of attributes, outliers of various attributes**"
   ]
  },
  {
   "cell_type": "markdown",
   "metadata": {
    "id": "O4NX4JjR2tSW"
   },
   "source": [
    "* datetime column has start date of 2011-01-01 and end date of 2012-12-19. This dateset contains 718 days of records.\n",
    "* Season ranges from 1 to 4 where 1,2,3 and 4 are treated as category. Below represents the categories of the numbers.\n",
    "\n",
    "    1: spring\n",
    "\n",
    "    2: summer\n",
    "\n",
    "    3: fall\n",
    "\n",
    "    4: winter\n",
    "\n",
    "*   holiday column has two categories 0(Not a holiday) and 1(Holiday).\n",
    "*   For workingday column it ranges from 0 and 1 if day is neither weekend nor holiday is 1, otherwise is 0.\n",
    "*  \tweather ranges from 1-4 where the number represents the below categories:\n",
    "\n",
    "    1: Clear, Few clouds, partly cloudy, partly cloudy\n",
    "\n",
    "    2: Mist + Cloudy, Mist + Broken clouds, Mist + Few clouds, Mist\n",
    "\n",
    "    3: Light Snow, Light Rain + Thunderstorm + Scattered clouds, Light Rain + Scattered clouds\n",
    "\n",
    "    4: Heavy Rain + Ice Pallets + Thunderstorm + Mist, Snow + Fog\n",
    "\n",
    "*  temp ranges from 0.8 to 41.0 with an average of 20.2 celcius.\n",
    "*  Whereas feels like temperature ranges from 0.76 to 45.4 with an average of 23.65 celcius.\n",
    "*  humidity ranges from 0 to 100 with an average of 61.8.\n",
    "*  windspeed ranges from 12.79 to 56.9 with an average of 12.7 Km/H.\n",
    "*  count column ranges from 1 to 977 with an average of 191.5"
   ]
  },
  {
   "cell_type": "markdown",
   "metadata": {
    "id": "v7lAjFQY6wFx"
   },
   "source": [
    "**Outlier check:** When exploring data, the outliers are the extreme values within the dataset. That means the outlier data points vary greatly from the expected values - either being much larger or significantly smaller."
   ]
  },
  {
   "cell_type": "code",
   "execution_count": null,
   "metadata": {
    "colab": {
     "base_uri": "https://localhost:8080/",
     "height": 317
    },
    "id": "fQwx79ci6xjS",
    "outputId": "285de421-09b3-4806-a253-7d2cd5ff5cef"
   },
   "outputs": [
    {
     "data": {
      "application/vnd.google.colaboratory.intrinsic+json": {
       "summary": "{\n  \"name\": \"df\",\n  \"rows\": 8,\n  \"fields\": [\n    {\n      \"column\": \"datetime\",\n      \"properties\": {\n        \"dtype\": \"date\",\n        \"min\": \"1970-01-01 00:00:00.000010886\",\n        \"max\": \"2012-12-19 23:00:00\",\n        \"num_unique_values\": 7,\n        \"samples\": [\n          \"10886\",\n          \"2011-12-27 05:56:22.399411968\",\n          \"2012-07-01 12:45:00\"\n        ],\n        \"semantic_type\": \"\",\n        \"description\": \"\"\n      }\n    },\n    {\n      \"column\": \"season\",\n      \"properties\": {\n        \"dtype\": \"number\",\n        \"std\": 3847.8922948663444,\n        \"min\": 1.0,\n        \"max\": 10886.0,\n        \"num_unique_values\": 7,\n        \"samples\": [\n          10886.0,\n          2.5066139996325556,\n          4.0\n        ],\n        \"semantic_type\": \"\",\n        \"description\": \"\"\n      }\n    },\n    {\n      \"column\": \"holiday\",\n      \"properties\": {\n        \"dtype\": \"number\",\n        \"std\": 3848.721860218128,\n        \"min\": 0.0,\n        \"max\": 10886.0,\n        \"num_unique_values\": 5,\n        \"samples\": [\n          0.02856880396839978,\n          0.16659885062471985,\n          0.0\n        ],\n        \"semantic_type\": \"\",\n        \"description\": \"\"\n      }\n    },\n    {\n      \"column\": \"workingday\",\n      \"properties\": {\n        \"dtype\": \"number\",\n        \"std\": 3848.5727758849694,\n        \"min\": 0.0,\n        \"max\": 10886.0,\n        \"num_unique_values\": 5,\n        \"samples\": [\n          0.6808745177291935,\n          0.4661591687997421,\n          0.0\n        ],\n        \"semantic_type\": \"\",\n        \"description\": \"\"\n      }\n    },\n    {\n      \"column\": \"weather\",\n      \"properties\": {\n        \"dtype\": \"number\",\n        \"std\": 3848.2241340817272,\n        \"min\": 0.6338385858190921,\n        \"max\": 10886.0,\n        \"num_unique_values\": 6,\n        \"samples\": [\n          10886.0,\n          1.418427337865148,\n          0.6338385858190921\n        ],\n        \"semantic_type\": \"\",\n        \"description\": \"\"\n      }\n    },\n    {\n      \"column\": \"temp\",\n      \"properties\": {\n        \"dtype\": \"number\",\n        \"std\": 3842.2088126431295,\n        \"min\": 0.82,\n        \"max\": 10886.0,\n        \"num_unique_values\": 8,\n        \"samples\": [\n          20.23085981995223,\n          26.24,\n          10886.0\n        ],\n        \"semantic_type\": \"\",\n        \"description\": \"\"\n      }\n    },\n    {\n      \"column\": \"atemp\",\n      \"properties\": {\n        \"dtype\": \"number\",\n        \"std\": 3841.214609020895,\n        \"min\": 0.76,\n        \"max\": 10886.0,\n        \"num_unique_values\": 8,\n        \"samples\": [\n          23.655084052912,\n          31.06,\n          10886.0\n        ],\n        \"semantic_type\": \"\",\n        \"description\": \"\"\n      }\n    },\n    {\n      \"column\": \"humidity\",\n      \"properties\": {\n        \"dtype\": \"number\",\n        \"std\": 3830.3684503021896,\n        \"min\": 0.0,\n        \"max\": 10886.0,\n        \"num_unique_values\": 8,\n        \"samples\": [\n          61.88645967297446,\n          77.0,\n          10886.0\n        ],\n        \"semantic_type\": \"\",\n        \"description\": \"\"\n      }\n    },\n    {\n      \"column\": \"windspeed\",\n      \"properties\": {\n        \"dtype\": \"number\",\n        \"std\": 3843.014939445678,\n        \"min\": 0.0,\n        \"max\": 10886.0,\n        \"num_unique_values\": 8,\n        \"samples\": [\n          12.7993954069447,\n          16.9979,\n          10886.0\n        ],\n        \"semantic_type\": \"\",\n        \"description\": \"\"\n      }\n    },\n    {\n      \"column\": \"casual\",\n      \"properties\": {\n        \"dtype\": \"number\",\n        \"std\": 3824.2753676913135,\n        \"min\": 0.0,\n        \"max\": 10886.0,\n        \"num_unique_values\": 8,\n        \"samples\": [\n          36.02195480433584,\n          49.0,\n          10886.0\n        ],\n        \"semantic_type\": \"\",\n        \"description\": \"\"\n      }\n    },\n    {\n      \"column\": \"registered\",\n      \"properties\": {\n        \"dtype\": \"number\",\n        \"std\": 3779.869612125704,\n        \"min\": 0.0,\n        \"max\": 10886.0,\n        \"num_unique_values\": 8,\n        \"samples\": [\n          155.5521771082124,\n          222.0,\n          10886.0\n        ],\n        \"semantic_type\": \"\",\n        \"description\": \"\"\n      }\n    },\n    {\n      \"column\": \"count\",\n      \"properties\": {\n        \"dtype\": \"number\",\n        \"std\": 3769.174237043881,\n        \"min\": 1.0,\n        \"max\": 10886.0,\n        \"num_unique_values\": 8,\n        \"samples\": [\n          191.57413191254824,\n          284.0,\n          10886.0\n        ],\n        \"semantic_type\": \"\",\n        \"description\": \"\"\n      }\n    }\n  ]\n}",
       "type": "dataframe"
      },
      "text/html": [
       "\n",
       "  <div id=\"df-70317ea8-7641-4ea2-82bc-f2f99470f63a\" class=\"colab-df-container\">\n",
       "    <div>\n",
       "<style scoped>\n",
       "    .dataframe tbody tr th:only-of-type {\n",
       "        vertical-align: middle;\n",
       "    }\n",
       "\n",
       "    .dataframe tbody tr th {\n",
       "        vertical-align: top;\n",
       "    }\n",
       "\n",
       "    .dataframe thead th {\n",
       "        text-align: right;\n",
       "    }\n",
       "</style>\n",
       "<table border=\"1\" class=\"dataframe\">\n",
       "  <thead>\n",
       "    <tr style=\"text-align: right;\">\n",
       "      <th></th>\n",
       "      <th>datetime</th>\n",
       "      <th>season</th>\n",
       "      <th>holiday</th>\n",
       "      <th>workingday</th>\n",
       "      <th>weather</th>\n",
       "      <th>temp</th>\n",
       "      <th>atemp</th>\n",
       "      <th>humidity</th>\n",
       "      <th>windspeed</th>\n",
       "      <th>casual</th>\n",
       "      <th>registered</th>\n",
       "      <th>count</th>\n",
       "    </tr>\n",
       "  </thead>\n",
       "  <tbody>\n",
       "    <tr>\n",
       "      <th>count</th>\n",
       "      <td>10886</td>\n",
       "      <td>10886.000000</td>\n",
       "      <td>10886.000000</td>\n",
       "      <td>10886.000000</td>\n",
       "      <td>10886.000000</td>\n",
       "      <td>10886.00000</td>\n",
       "      <td>10886.000000</td>\n",
       "      <td>10886.000000</td>\n",
       "      <td>10886.000000</td>\n",
       "      <td>10886.000000</td>\n",
       "      <td>10886.000000</td>\n",
       "      <td>10886.000000</td>\n",
       "    </tr>\n",
       "    <tr>\n",
       "      <th>mean</th>\n",
       "      <td>2011-12-27 05:56:22.399411968</td>\n",
       "      <td>2.506614</td>\n",
       "      <td>0.028569</td>\n",
       "      <td>0.680875</td>\n",
       "      <td>1.418427</td>\n",
       "      <td>20.23086</td>\n",
       "      <td>23.655084</td>\n",
       "      <td>61.886460</td>\n",
       "      <td>12.799395</td>\n",
       "      <td>36.021955</td>\n",
       "      <td>155.552177</td>\n",
       "      <td>191.574132</td>\n",
       "    </tr>\n",
       "    <tr>\n",
       "      <th>min</th>\n",
       "      <td>2011-01-01 00:00:00</td>\n",
       "      <td>1.000000</td>\n",
       "      <td>0.000000</td>\n",
       "      <td>0.000000</td>\n",
       "      <td>1.000000</td>\n",
       "      <td>0.82000</td>\n",
       "      <td>0.760000</td>\n",
       "      <td>0.000000</td>\n",
       "      <td>0.000000</td>\n",
       "      <td>0.000000</td>\n",
       "      <td>0.000000</td>\n",
       "      <td>1.000000</td>\n",
       "    </tr>\n",
       "    <tr>\n",
       "      <th>25%</th>\n",
       "      <td>2011-07-02 07:15:00</td>\n",
       "      <td>2.000000</td>\n",
       "      <td>0.000000</td>\n",
       "      <td>0.000000</td>\n",
       "      <td>1.000000</td>\n",
       "      <td>13.94000</td>\n",
       "      <td>16.665000</td>\n",
       "      <td>47.000000</td>\n",
       "      <td>7.001500</td>\n",
       "      <td>4.000000</td>\n",
       "      <td>36.000000</td>\n",
       "      <td>42.000000</td>\n",
       "    </tr>\n",
       "    <tr>\n",
       "      <th>50%</th>\n",
       "      <td>2012-01-01 20:30:00</td>\n",
       "      <td>3.000000</td>\n",
       "      <td>0.000000</td>\n",
       "      <td>1.000000</td>\n",
       "      <td>1.000000</td>\n",
       "      <td>20.50000</td>\n",
       "      <td>24.240000</td>\n",
       "      <td>62.000000</td>\n",
       "      <td>12.998000</td>\n",
       "      <td>17.000000</td>\n",
       "      <td>118.000000</td>\n",
       "      <td>145.000000</td>\n",
       "    </tr>\n",
       "    <tr>\n",
       "      <th>75%</th>\n",
       "      <td>2012-07-01 12:45:00</td>\n",
       "      <td>4.000000</td>\n",
       "      <td>0.000000</td>\n",
       "      <td>1.000000</td>\n",
       "      <td>2.000000</td>\n",
       "      <td>26.24000</td>\n",
       "      <td>31.060000</td>\n",
       "      <td>77.000000</td>\n",
       "      <td>16.997900</td>\n",
       "      <td>49.000000</td>\n",
       "      <td>222.000000</td>\n",
       "      <td>284.000000</td>\n",
       "    </tr>\n",
       "    <tr>\n",
       "      <th>max</th>\n",
       "      <td>2012-12-19 23:00:00</td>\n",
       "      <td>4.000000</td>\n",
       "      <td>1.000000</td>\n",
       "      <td>1.000000</td>\n",
       "      <td>4.000000</td>\n",
       "      <td>41.00000</td>\n",
       "      <td>45.455000</td>\n",
       "      <td>100.000000</td>\n",
       "      <td>56.996900</td>\n",
       "      <td>367.000000</td>\n",
       "      <td>886.000000</td>\n",
       "      <td>977.000000</td>\n",
       "    </tr>\n",
       "    <tr>\n",
       "      <th>std</th>\n",
       "      <td>NaN</td>\n",
       "      <td>1.116174</td>\n",
       "      <td>0.166599</td>\n",
       "      <td>0.466159</td>\n",
       "      <td>0.633839</td>\n",
       "      <td>7.79159</td>\n",
       "      <td>8.474601</td>\n",
       "      <td>19.245033</td>\n",
       "      <td>8.164537</td>\n",
       "      <td>49.960477</td>\n",
       "      <td>151.039033</td>\n",
       "      <td>181.144454</td>\n",
       "    </tr>\n",
       "  </tbody>\n",
       "</table>\n",
       "</div>\n",
       "    <div class=\"colab-df-buttons\">\n",
       "\n",
       "  <div class=\"colab-df-container\">\n",
       "    <button class=\"colab-df-convert\" onclick=\"convertToInteractive('df-70317ea8-7641-4ea2-82bc-f2f99470f63a')\"\n",
       "            title=\"Convert this dataframe to an interactive table.\"\n",
       "            style=\"display:none;\">\n",
       "\n",
       "  <svg xmlns=\"http://www.w3.org/2000/svg\" height=\"24px\" viewBox=\"0 -960 960 960\">\n",
       "    <path d=\"M120-120v-720h720v720H120Zm60-500h600v-160H180v160Zm220 220h160v-160H400v160Zm0 220h160v-160H400v160ZM180-400h160v-160H180v160Zm440 0h160v-160H620v160ZM180-180h160v-160H180v160Zm440 0h160v-160H620v160Z\"/>\n",
       "  </svg>\n",
       "    </button>\n",
       "\n",
       "  <style>\n",
       "    .colab-df-container {\n",
       "      display:flex;\n",
       "      gap: 12px;\n",
       "    }\n",
       "\n",
       "    .colab-df-convert {\n",
       "      background-color: #E8F0FE;\n",
       "      border: none;\n",
       "      border-radius: 50%;\n",
       "      cursor: pointer;\n",
       "      display: none;\n",
       "      fill: #1967D2;\n",
       "      height: 32px;\n",
       "      padding: 0 0 0 0;\n",
       "      width: 32px;\n",
       "    }\n",
       "\n",
       "    .colab-df-convert:hover {\n",
       "      background-color: #E2EBFA;\n",
       "      box-shadow: 0px 1px 2px rgba(60, 64, 67, 0.3), 0px 1px 3px 1px rgba(60, 64, 67, 0.15);\n",
       "      fill: #174EA6;\n",
       "    }\n",
       "\n",
       "    .colab-df-buttons div {\n",
       "      margin-bottom: 4px;\n",
       "    }\n",
       "\n",
       "    [theme=dark] .colab-df-convert {\n",
       "      background-color: #3B4455;\n",
       "      fill: #D2E3FC;\n",
       "    }\n",
       "\n",
       "    [theme=dark] .colab-df-convert:hover {\n",
       "      background-color: #434B5C;\n",
       "      box-shadow: 0px 1px 3px 1px rgba(0, 0, 0, 0.15);\n",
       "      filter: drop-shadow(0px 1px 2px rgba(0, 0, 0, 0.3));\n",
       "      fill: #FFFFFF;\n",
       "    }\n",
       "  </style>\n",
       "\n",
       "    <script>\n",
       "      const buttonEl =\n",
       "        document.querySelector('#df-70317ea8-7641-4ea2-82bc-f2f99470f63a button.colab-df-convert');\n",
       "      buttonEl.style.display =\n",
       "        google.colab.kernel.accessAllowed ? 'block' : 'none';\n",
       "\n",
       "      async function convertToInteractive(key) {\n",
       "        const element = document.querySelector('#df-70317ea8-7641-4ea2-82bc-f2f99470f63a');\n",
       "        const dataTable =\n",
       "          await google.colab.kernel.invokeFunction('convertToInteractive',\n",
       "                                                    [key], {});\n",
       "        if (!dataTable) return;\n",
       "\n",
       "        const docLinkHtml = 'Like what you see? Visit the ' +\n",
       "          '<a target=\"_blank\" href=https://colab.research.google.com/notebooks/data_table.ipynb>data table notebook</a>'\n",
       "          + ' to learn more about interactive tables.';\n",
       "        element.innerHTML = '';\n",
       "        dataTable['output_type'] = 'display_data';\n",
       "        await google.colab.output.renderOutput(dataTable, element);\n",
       "        const docLink = document.createElement('div');\n",
       "        docLink.innerHTML = docLinkHtml;\n",
       "        element.appendChild(docLink);\n",
       "      }\n",
       "    </script>\n",
       "  </div>\n",
       "\n",
       "\n",
       "<div id=\"df-93a9b89e-d214-45f8-90a8-488a7c1ec2dd\">\n",
       "  <button class=\"colab-df-quickchart\" onclick=\"quickchart('df-93a9b89e-d214-45f8-90a8-488a7c1ec2dd')\"\n",
       "            title=\"Suggest charts\"\n",
       "            style=\"display:none;\">\n",
       "\n",
       "<svg xmlns=\"http://www.w3.org/2000/svg\" height=\"24px\"viewBox=\"0 0 24 24\"\n",
       "     width=\"24px\">\n",
       "    <g>\n",
       "        <path d=\"M19 3H5c-1.1 0-2 .9-2 2v14c0 1.1.9 2 2 2h14c1.1 0 2-.9 2-2V5c0-1.1-.9-2-2-2zM9 17H7v-7h2v7zm4 0h-2V7h2v10zm4 0h-2v-4h2v4z\"/>\n",
       "    </g>\n",
       "</svg>\n",
       "  </button>\n",
       "\n",
       "<style>\n",
       "  .colab-df-quickchart {\n",
       "      --bg-color: #E8F0FE;\n",
       "      --fill-color: #1967D2;\n",
       "      --hover-bg-color: #E2EBFA;\n",
       "      --hover-fill-color: #174EA6;\n",
       "      --disabled-fill-color: #AAA;\n",
       "      --disabled-bg-color: #DDD;\n",
       "  }\n",
       "\n",
       "  [theme=dark] .colab-df-quickchart {\n",
       "      --bg-color: #3B4455;\n",
       "      --fill-color: #D2E3FC;\n",
       "      --hover-bg-color: #434B5C;\n",
       "      --hover-fill-color: #FFFFFF;\n",
       "      --disabled-bg-color: #3B4455;\n",
       "      --disabled-fill-color: #666;\n",
       "  }\n",
       "\n",
       "  .colab-df-quickchart {\n",
       "    background-color: var(--bg-color);\n",
       "    border: none;\n",
       "    border-radius: 50%;\n",
       "    cursor: pointer;\n",
       "    display: none;\n",
       "    fill: var(--fill-color);\n",
       "    height: 32px;\n",
       "    padding: 0;\n",
       "    width: 32px;\n",
       "  }\n",
       "\n",
       "  .colab-df-quickchart:hover {\n",
       "    background-color: var(--hover-bg-color);\n",
       "    box-shadow: 0 1px 2px rgba(60, 64, 67, 0.3), 0 1px 3px 1px rgba(60, 64, 67, 0.15);\n",
       "    fill: var(--button-hover-fill-color);\n",
       "  }\n",
       "\n",
       "  .colab-df-quickchart-complete:disabled,\n",
       "  .colab-df-quickchart-complete:disabled:hover {\n",
       "    background-color: var(--disabled-bg-color);\n",
       "    fill: var(--disabled-fill-color);\n",
       "    box-shadow: none;\n",
       "  }\n",
       "\n",
       "  .colab-df-spinner {\n",
       "    border: 2px solid var(--fill-color);\n",
       "    border-color: transparent;\n",
       "    border-bottom-color: var(--fill-color);\n",
       "    animation:\n",
       "      spin 1s steps(1) infinite;\n",
       "  }\n",
       "\n",
       "  @keyframes spin {\n",
       "    0% {\n",
       "      border-color: transparent;\n",
       "      border-bottom-color: var(--fill-color);\n",
       "      border-left-color: var(--fill-color);\n",
       "    }\n",
       "    20% {\n",
       "      border-color: transparent;\n",
       "      border-left-color: var(--fill-color);\n",
       "      border-top-color: var(--fill-color);\n",
       "    }\n",
       "    30% {\n",
       "      border-color: transparent;\n",
       "      border-left-color: var(--fill-color);\n",
       "      border-top-color: var(--fill-color);\n",
       "      border-right-color: var(--fill-color);\n",
       "    }\n",
       "    40% {\n",
       "      border-color: transparent;\n",
       "      border-right-color: var(--fill-color);\n",
       "      border-top-color: var(--fill-color);\n",
       "    }\n",
       "    60% {\n",
       "      border-color: transparent;\n",
       "      border-right-color: var(--fill-color);\n",
       "    }\n",
       "    80% {\n",
       "      border-color: transparent;\n",
       "      border-right-color: var(--fill-color);\n",
       "      border-bottom-color: var(--fill-color);\n",
       "    }\n",
       "    90% {\n",
       "      border-color: transparent;\n",
       "      border-bottom-color: var(--fill-color);\n",
       "    }\n",
       "  }\n",
       "</style>\n",
       "\n",
       "  <script>\n",
       "    async function quickchart(key) {\n",
       "      const quickchartButtonEl =\n",
       "        document.querySelector('#' + key + ' button');\n",
       "      quickchartButtonEl.disabled = true;  // To prevent multiple clicks.\n",
       "      quickchartButtonEl.classList.add('colab-df-spinner');\n",
       "      try {\n",
       "        const charts = await google.colab.kernel.invokeFunction(\n",
       "            'suggestCharts', [key], {});\n",
       "      } catch (error) {\n",
       "        console.error('Error during call to suggestCharts:', error);\n",
       "      }\n",
       "      quickchartButtonEl.classList.remove('colab-df-spinner');\n",
       "      quickchartButtonEl.classList.add('colab-df-quickchart-complete');\n",
       "    }\n",
       "    (() => {\n",
       "      let quickchartButtonEl =\n",
       "        document.querySelector('#df-93a9b89e-d214-45f8-90a8-488a7c1ec2dd button');\n",
       "      quickchartButtonEl.style.display =\n",
       "        google.colab.kernel.accessAllowed ? 'block' : 'none';\n",
       "    })();\n",
       "  </script>\n",
       "</div>\n",
       "\n",
       "    </div>\n",
       "  </div>\n"
      ],
      "text/plain": [
       "                            datetime        season       holiday  \\\n",
       "count                          10886  10886.000000  10886.000000   \n",
       "mean   2011-12-27 05:56:22.399411968      2.506614      0.028569   \n",
       "min              2011-01-01 00:00:00      1.000000      0.000000   \n",
       "25%              2011-07-02 07:15:00      2.000000      0.000000   \n",
       "50%              2012-01-01 20:30:00      3.000000      0.000000   \n",
       "75%              2012-07-01 12:45:00      4.000000      0.000000   \n",
       "max              2012-12-19 23:00:00      4.000000      1.000000   \n",
       "std                              NaN      1.116174      0.166599   \n",
       "\n",
       "         workingday       weather         temp         atemp      humidity  \\\n",
       "count  10886.000000  10886.000000  10886.00000  10886.000000  10886.000000   \n",
       "mean       0.680875      1.418427     20.23086     23.655084     61.886460   \n",
       "min        0.000000      1.000000      0.82000      0.760000      0.000000   \n",
       "25%        0.000000      1.000000     13.94000     16.665000     47.000000   \n",
       "50%        1.000000      1.000000     20.50000     24.240000     62.000000   \n",
       "75%        1.000000      2.000000     26.24000     31.060000     77.000000   \n",
       "max        1.000000      4.000000     41.00000     45.455000    100.000000   \n",
       "std        0.466159      0.633839      7.79159      8.474601     19.245033   \n",
       "\n",
       "          windspeed        casual    registered         count  \n",
       "count  10886.000000  10886.000000  10886.000000  10886.000000  \n",
       "mean      12.799395     36.021955    155.552177    191.574132  \n",
       "min        0.000000      0.000000      0.000000      1.000000  \n",
       "25%        7.001500      4.000000     36.000000     42.000000  \n",
       "50%       12.998000     17.000000    118.000000    145.000000  \n",
       "75%       16.997900     49.000000    222.000000    284.000000  \n",
       "max       56.996900    367.000000    886.000000    977.000000  \n",
       "std        8.164537     49.960477    151.039033    181.144454  "
      ]
     },
     "execution_count": 145,
     "metadata": {},
     "output_type": "execute_result"
    }
   ],
   "source": [
    "df.describe()"
   ]
  },
  {
   "cell_type": "markdown",
   "metadata": {
    "id": "u-oXExAX6z56"
   },
   "source": [
    "With the describe method of pandas, we can see our data's Q1 (%25) and Q3 (%75) percentiles.\n",
    "\n",
    "We can calculate our IQR point and boundaries once the upper boundary and lower boundary is calculated. This means that these values between lower and upper boundary are acceptable but those outside mean are outliers."
   ]
  },
  {
   "cell_type": "markdown",
   "metadata": {
    "id": "xCbTJQlT637q"
   },
   "source": [
    "**Outliers for this dataset:**"
   ]
  },
  {
   "cell_type": "markdown",
   "metadata": {
    "id": "9HQegPRn69zY"
   },
   "source": [
    "We will use boxplot to detect the outliers.\n",
    "\n",
    "**Boxplot:** is the visual representation of the groups of numerical data through their quartiles. Boxplot is also used to detect the outlier in data set. It summarizes a sample data using 25th, 50th and 75th percentiles. These percentiles are also known as the lower, median & upper quartile."
   ]
  },
  {
   "cell_type": "code",
   "execution_count": null,
   "metadata": {
    "colab": {
     "base_uri": "https://localhost:8080/",
     "height": 433
    },
    "id": "Ca9GepyS7N-6",
    "outputId": "3232c4db-c76f-48fc-87fc-574dee632a38"
   },
   "outputs": [
    {
     "data": {
      "image/png": "[encoded data removed]",
      "text/plain": [
       "<Figure size 640x480 with 1 Axes>"
      ]
     },
     "metadata": {},
     "output_type": "display_data"
    }
   ],
   "source": [
    "sns.boxplot(df['temp'],color='orange') #we are ploting boxplot for 'temp' Column\n",
    "plt.title(\"Temperature\")\n",
    "plt.show()"
   ]
  },
  {
   "cell_type": "code",
   "execution_count": null,
   "metadata": {
    "colab": {
     "base_uri": "https://localhost:8080/",
     "height": 433
    },
    "id": "Q_BBtjpn75KS",
    "outputId": "ad113ff7-5457-43c6-8efd-82e0061185f1"
   },
   "outputs": [
    {
     "data": {
      "image/png": "[encoded data removed]",
      "text/plain": [
       "<Figure size 640x480 with 1 Axes>"
      ]
     },
     "metadata": {},
     "output_type": "display_data"
    }
   ],
   "source": [
    "sns.boxplot(df['atemp'],color='red') #we are ploting boxplot for 'atemp' Column\n",
    "plt.title(\"Feels like Temperature\")\n",
    "plt.show()"
   ]
  },
  {
   "cell_type": "code",
   "execution_count": null,
   "metadata": {
    "colab": {
     "base_uri": "https://localhost:8080/",
     "height": 433
    },
    "id": "JwEvJg3e8kq5",
    "outputId": "6f38ead9-8f23-4033-8da0-34282b060bc2"
   },
   "outputs": [
    {
     "data": {
      "image/png": "[encoded data removed]",
      "text/plain": [
       "<Figure size 640x480 with 1 Axes>"
      ]
     },
     "metadata": {},
     "output_type": "display_data"
    }
   ],
   "source": [
    "sns.boxplot(df['humidity'],color='green') #we are ploting boxplot for 'humidity' Column\n",
    "plt.title(\"Humidity\")\n",
    "plt.show()"
   ]
  },
  {
   "cell_type": "code",
   "execution_count": null,
   "metadata": {
    "colab": {
     "base_uri": "https://localhost:8080/",
     "height": 433
    },
    "id": "sI2lGFWJ75Yh",
    "outputId": "9b099514-5127-45f0-8987-39e73e91351f"
   },
   "outputs": [
    {
     "data": {
      "image/png": "[encoded data removed]",
      "text/plain": [
       "<Figure size 640x480 with 1 Axes>"
      ]
     },
     "metadata": {},
     "output_type": "display_data"
    }
   ],
   "source": [
    "sns.boxplot(df['windspeed'],color='blue') #we are ploting boxplot for 'windspeed' Column\n",
    "plt.title(\"Wind speed\")\n",
    "plt.show()"
   ]
  },
  {
   "cell_type": "markdown",
   "metadata": {
    "id": "GJCHprDl8wwl"
   },
   "source": [
    "**Treating Outliers:**\n",
    "\n",
    "As we can the outliers (as shown at boxplot). Boxplot is the best way to see outliers. Before handling outliers, we will detect them. We will use Tukey's rule to detect outliers. It is also known as the IQR rule.\n",
    "\n",
    "First, we will calculate the Interquartile Range of the data\n",
    "\n",
    "(IQR = Q3 — Q1). Later, we will determine our outlier boundaries with IQR.\n",
    "\n",
    "We will get our lower boundary with this calculation Q1-1.5 * IQR.\n",
    "\n",
    "We will get our upper boundary with this calculation Q3 + 1.5 * IQR.\n",
    "\n",
    "According to this rule, the data between boundaries are acceptable but the data outside of the between lower and upper boundaries are outliers. We can use 2.5 or 2 to detect IQR. It depends on our data and analysis. But the most commonly used is 1.5 and we will use 1.5 IQR in this analysis."
   ]
  },
  {
   "cell_type": "markdown",
   "metadata": {
    "id": "k3WoMFKn8yLB"
   },
   "source": [
    "From the above boxplots we can see the columns 'temp' and 'atemp' have no outliers.\n",
    "\n",
    "Let us take the column 'humidity' and calculate the outlier.\n",
    "\n",
    "*   windspeed\n",
    "\n",
    "Q1: 7.00\n",
    "\n",
    "Q3: 16.99\n",
    "\n",
    "IQR=Q3-Q1=9.99\n",
    "\n",
    "Lower limit = Q1-1.5*IQR=-7.98(But windspeed can't be negative so we will consider 0)\n",
    "\n",
    "Upper limit= Q3+1.5*IQR=31.97\n",
    "\n",
    "*   humidity\n",
    "\n",
    "Q1: 47.00\n",
    "\n",
    "Q3: 77.00\n",
    "\n",
    "IQR=Q3-Q1=30\n",
    "\n",
    "Lower limit = Q1-1.5*IQR=-2(But humidity can't be negative so we will consider 0)\n",
    "\n",
    "Upper limit= Q3+1.5*IQR=122"
   ]
  },
  {
   "cell_type": "markdown",
   "metadata": {
    "id": "bfGnYhNP_VN3"
   },
   "source": [
    "From the above calculations we can conclude that:\n",
    "\n",
    "*   For windspeed column any value outside the range -7.98 to 31.97 can be treated as outliers.\n",
    "*   For humidity column any value outside the range -2 to 122 can be treated as outliers."
   ]
  },
  {
   "cell_type": "markdown",
   "metadata": {
    "id": "ymzx2wOG_6bu"
   },
   "source": [
    "Dropping Outliners is one of the method used in the treatment of outliners for effective data:\n",
    "\n",
    "We can easily remove outliers, but this narrows our data. If we have a lot of rows, big data, maybe we can take risks. But remember, if we drop the value, we delete all records (row). If we have vulnerable records, they can get lost."
   ]
  },
  {
   "cell_type": "markdown",
   "metadata": {
    "id": "eqo5PcMbS-ws"
   },
   "source": [
    "**Comments on the distribution of the variables and relationship between them**"
   ]
  },
  {
   "cell_type": "code",
   "execution_count": null,
   "metadata": {
    "colab": {
     "base_uri": "https://localhost:8080/",
     "height": 632
    },
    "id": "72t6rtRhBPv_",
    "outputId": "84ce627d-d383-451c-9ea3-9987e3d00f86"
   },
   "outputs": [
    {
     "data": {
      "text/plain": [
       "<Axes: >"
      ]
     },
     "execution_count": 76,
     "metadata": {},
     "output_type": "execute_result"
    },
    {
     "data": {
      "image/png": "[encoded data removed]",
      "text/plain": [
       "<Figure size 1200x600 with 2 Axes>"
      ]
     },
     "metadata": {},
     "output_type": "display_data"
    }
   ],
   "source": [
    "plt.figure(figsize=(12,6))\n",
    "sns.heatmap(df.corr(),annot=True) #plotting heatmap using .corr() function"
   ]
  },
  {
   "cell_type": "markdown",
   "metadata": {
    "id": "7dZ0Xf9G_bpC"
   },
   "source": [
    "*   datetime - This dataset contains the record from 2011-01-01 to 2012-12-19.\n",
    "*   season - There is four season present the dataset denoted by 1(spring), 2(summer), 3(fall) and 4(winter).\n",
    "*   holiday - This attribute have two categories denoted by 0(Not a Holiday) and 1(Holiday).\n",
    "*   workingday - This varible also have two categories denote by 0(Weekend/Holiday) and 1(Not Holiday/Weekend).\n",
    "*   temp - This column ranges from 0.8 to 41 degree celcius.\n",
    "*   atemp - This column ranges from 0.7 to 45.45 degree celcius.\n",
    "*   humidity - Humidity ranges from 0 to 100.\n",
    "*   windspeed - Windspeed ranges from 0-57 Km/h.\n",
    "\n",
    "From the above heatmap we can see that:\n",
    "\n",
    "*   There is a correlation between humidity and weather.\n",
    "*   There is strong correlation between temperature(temp) and feels like temperature(atemp) attribute.\n",
    "*   Datetime and season is also correlated."
   ]
  },
  {
   "cell_type": "markdown",
   "metadata": {
    "id": "1JM_DvKKTB87"
   },
   "source": [
    "**Comments for each univariate and bivariate plots**"
   ]
  },
  {
   "cell_type": "markdown",
   "metadata": {
    "id": "d1DNZA9UTGr0"
   },
   "source": [
    "*   In Temperature Distribution plot data is concentrated from 15 to 25 degree celcius whereas feels like temperature mean lies in-between 20-30 degree celcius.\n",
    "*   Humidity distribution plot the graph looks left skewed and the mean lies in the range of 55-65.\n",
    "*   Windspeed distribution graph looks somewhat right skewed where the means lies between 5-15 Km/h\n",
    "*   All the seasons have almost similar number of records.\n",
    "*    There are 311 holiday records and 10575 non holiday records present in the dataset.\n",
    "*   In general weekend/holiday < non weekend/holiday and from the countplot we can also see that there are 3474 weekend/holiday records and 7412 non weekend/holiday record present in the dataset.\n",
    "*   Maximun number of bookings are done in the Fall season(September, October, and November). During these months weather used to be moderate.\n",
    "*   On avergae for non holiday booking rate is slightly high as compared to holiday.\n",
    "*   On avergae for non weekend/holiday booking rate is slightly high as compared to weekend/holiday.\n",
    "*   Majority of the booking was done during \"Clear, Few clouds, partly cloudy, partly cloudy\" weather conditons.\n",
    "*   Very few booking were done during the weather condition \"Heavy Rain + Ice Pallets + Thunderstorm + Mist, Snow + Fog\"."
   ]
  },
  {
   "cell_type": "markdown",
   "metadata": {
    "id": "gBGYg2QfKLCM"
   },
   "source": [
    "**2.\tHypothesis Testing**"
   ]
  },
  {
   "cell_type": "markdown",
   "metadata": {
    "id": "0UJNqjlxKOMj"
   },
   "source": [
    "**2- Sample T-Test** to check if Working Day has an effect on the number of electric cycles rented"
   ]
  },
  {
   "cell_type": "markdown",
   "metadata": {
    "id": "vW64wa33MPzn"
   },
   "source": [
    "**2- Sample T-Test:** The two-sample t-test (also known as the independent samples t-test) is a method used to test whether the unknown population means of two groups are equal or not."
   ]
  },
  {
   "cell_type": "markdown",
   "metadata": {
    "id": "5FyzocEEM-bq"
   },
   "source": [
    "**Assumption:** We can use the test when our data values are independent, are randomly sampled from two normal populations and the two independent groups have equal variances."
   ]
  },
  {
   "cell_type": "markdown",
   "metadata": {
    "id": "4-EV8151N2pu"
   },
   "source": [
    "Before doing the 2-sample T-test let us check if the data is normally distributed or not.\n",
    "\n",
    "**We will use Shapiro test and qqplot for checking the normality and levene's test for homogeneity of variance.**"
   ]
  },
  {
   "cell_type": "markdown",
   "metadata": {
    "id": "QjBlR7ZKSQ3K"
   },
   "source": [
    "The **Shapiro-Wilk** test is a statistical test used to determine if a sample data set follows a normal distribution, with the null hypothesis being that the data is normally distributed. A low p-value suggests the data is not normally distributed, while a high p-value suggests it is."
   ]
  },
  {
   "cell_type": "markdown",
   "metadata": {
    "id": "KEMDsw6PSbYm"
   },
   "source": [
    "Let us assume that:\n",
    "\n",
    "Null Hypothesis(Ho) -> The data is normally distributed\n",
    "\n",
    "Alternate Hypothesis(Ha) -> The data is not normally distrubuted\n",
    "\n",
    "alpha = 0.05(95% confidence level)"
   ]
  },
  {
   "cell_type": "code",
   "execution_count": null,
   "metadata": {
    "id": "WCsPlbx0N3iK"
   },
   "outputs": [],
   "source": [
    "from scipy.stats import shapiro #importing shapiro library\n",
    "\n",
    "data1 = df[df['workingday'] == 0]['count'].sample(100) #Taking 100 sample where the day is Holiday/Weekend\n",
    "data2 = df[df['workingday'] == 1]['count'].sample(100) #Taking 100 sample where the day is not a Holiday/Weekend"
   ]
  },
  {
   "cell_type": "code",
   "execution_count": null,
   "metadata": {
    "colab": {
     "base_uri": "https://localhost:8080/"
    },
    "id": "RnEMtkyaOiEA",
    "outputId": "965dd68a-c70a-4e82-fb5d-4d737b659b19"
   },
   "outputs": [
    {
     "data": {
      "text/plain": [
       "ShapiroResult(statistic=np.float64(0.8860089198262788), pvalue=np.float64(3.2884779302090024e-07))"
      ]
     },
     "execution_count": 35,
     "metadata": {},
     "output_type": "execute_result"
    }
   ],
   "source": [
    "shapiro(data1) #performing shapiro test for Holiday/Weekend data"
   ]
  },
  {
   "cell_type": "markdown",
   "metadata": {
    "id": "GR6m3-D1TGMy"
   },
   "source": [
    "For the Holiday/Weekend data we can see that the p-value is very very small which means p-value(0.000000328) < alpha(0.05) so we will reject our null Hypothesis.\n",
    "\n",
    "**Holiday/Weekend data is not normally distributed.**"
   ]
  },
  {
   "cell_type": "code",
   "execution_count": null,
   "metadata": {
    "colab": {
     "base_uri": "https://localhost:8080/"
    },
    "id": "xa--aIABUSk5",
    "outputId": "1f8a7438-3e4d-4002-cabd-98437007ab4f"
   },
   "outputs": [
    {
     "data": {
      "text/plain": [
       "ShapiroResult(statistic=np.float64(0.8676361236987253), pvalue=np.float64(5.634948087351622e-08))"
      ]
     },
     "execution_count": 36,
     "metadata": {},
     "output_type": "execute_result"
    }
   ],
   "source": [
    "shapiro(data2) #performing shapiro test for not a Holiday/Weekend data"
   ]
  },
  {
   "cell_type": "markdown",
   "metadata": {
    "id": "e5H-XP87UXV9"
   },
   "source": [
    "For the not a Holiday/Weekend data also we can see that the p-value is very very small which means p-value(0.0000000563) < alpha(0.05) so we will reject our null Hypothesis.\n",
    "\n",
    "**Not a Holiday/Weekend data is not normally distributed.**"
   ]
  },
  {
   "cell_type": "markdown",
   "metadata": {
    "id": "VEtgQd2tU46l"
   },
   "source": [
    "**QQplot**: When the quantiles of two variables are plotted against each other, then the plot obtained is known as quantile - quantile plot or **qqplot**. This plot provides a summary of whether the distributions of two variables are similar or not with respect to the locations.\n",
    "\n",
    "All point of quantiles lie on or close to straight line at an angle of 45 degree from x - axis. It indicates that two samples have similar distributions."
   ]
  },
  {
   "cell_type": "code",
   "execution_count": null,
   "metadata": {
    "colab": {
     "base_uri": "https://localhost:8080/",
     "height": 449
    },
    "id": "YV5NtFF7PeKv",
    "outputId": "7d6e967f-bec9-4e1a-dc5f-aa037fe70d75"
   },
   "outputs": [
    {
     "data": {
      "image/png": "[encoded data removed]",
      "text/plain": [
       "<Figure size 640x480 with 1 Axes>"
      ]
     },
     "metadata": {},
     "output_type": "display_data"
    }
   ],
   "source": [
    "import statsmodels.api as sm #importing required library for qqplot\n",
    "\n",
    "sm.qqplot(data1,fit=True,line=\"45\") #plotting qqplot for Holiday/Weekend data\n",
    "plt.show()"
   ]
  },
  {
   "cell_type": "markdown",
   "metadata": {
    "id": "lZj1wcyEVNpi"
   },
   "source": [
    "We can see for Holiday/Weekend data the datapoints are not following the 45 degree straight line. So we can say that the data is not normally distributed."
   ]
  },
  {
   "cell_type": "code",
   "execution_count": null,
   "metadata": {
    "colab": {
     "base_uri": "https://localhost:8080/",
     "height": 449
    },
    "id": "KIPDvxM3Rsjq",
    "outputId": "71c94f2b-90a5-47d9-b101-09c59581edb9"
   },
   "outputs": [
    {
     "data": {
      "image/png": "[encoded data removed]",
      "text/plain": [
       "<Figure size 640x480 with 1 Axes>"
      ]
     },
     "metadata": {},
     "output_type": "display_data"
    }
   ],
   "source": [
    "sm.qqplot(data2,fit=True,line=\"45\") #plotting qqplot for not a Holiday/Weekend data\n",
    "plt.show()"
   ]
  },
  {
   "cell_type": "markdown",
   "metadata": {
    "id": "sHBJnumcVsMO"
   },
   "source": [
    "We can see for not a Holiday/Weekend data also the datapoints are not following the 45 degree straight line. So we can say that the data is not normally distributed."
   ]
  },
  {
   "cell_type": "markdown",
   "metadata": {
    "id": "xWApgWFVWRmS"
   },
   "source": [
    "**Levene's test** is a statistical test used to assess the equality of variances (homogeneity of variance) across two or more groups, commonly used before performing t-tests or ANOVAs to ensure the assumptions of these tests are met"
   ]
  },
  {
   "cell_type": "markdown",
   "metadata": {
    "id": "3r4094WXWm8E"
   },
   "source": [
    "Let us assume that:\n",
    "\n",
    "Null Hypothesis(Ho) -> The variance are same\n",
    "\n",
    "Alternate Hypothesis(Ha) -> The variance are not same\n",
    "\n",
    "alpha = 0.05(95% confidence level)"
   ]
  },
  {
   "cell_type": "code",
   "execution_count": null,
   "metadata": {
    "colab": {
     "base_uri": "https://localhost:8080/"
    },
    "id": "DiqnIgnJQUoz",
    "outputId": "a669b5d9-164e-438e-cb42-6d8a8bf4b6fd"
   },
   "outputs": [
    {
     "data": {
      "text/plain": [
       "LeveneResult(statistic=np.float64(0.7293432976030008), pvalue=np.float64(0.3941281815101304))"
      ]
     },
     "execution_count": 15,
     "metadata": {},
     "output_type": "execute_result"
    }
   ],
   "source": [
    "from scipy.stats import levene #importing the levene library for the test\n",
    "\n",
    "levene(data1,data2) #performing levene's test for Holiday/Weekend and not a Holiday/Weekend data"
   ]
  },
  {
   "cell_type": "markdown",
   "metadata": {
    "id": "2rpTeVV_Wup2"
   },
   "source": [
    "Since the p-value(0.39) > alpha(0.05) means we fail to reject null hypothesis so from the levene's test we can conclude that the **variance of both the data are equal.**"
   ]
  },
  {
   "cell_type": "markdown",
   "metadata": {
    "id": "ey5-E-HYXiOD"
   },
   "source": [
    "Normality test failed but variance test is passed. Let's still perform the 2 sample T-test and observe the results"
   ]
  },
  {
   "cell_type": "code",
   "execution_count": null,
   "metadata": {
    "colab": {
     "base_uri": "https://localhost:8080/",
     "height": 335
    },
    "id": "_xvqFLeZXuHO",
    "outputId": "a4238821-a41e-4b2a-aee7-4a5af8f75318"
   },
   "outputs": [
    {
     "data": {
      "text/html": [
       "<div>\n",
       "<style scoped>\n",
       "    .dataframe tbody tr th:only-of-type {\n",
       "        vertical-align: middle;\n",
       "    }\n",
       "\n",
       "    .dataframe tbody tr th {\n",
       "        vertical-align: top;\n",
       "    }\n",
       "\n",
       "    .dataframe thead th {\n",
       "        text-align: right;\n",
       "    }\n",
       "</style>\n",
       "<table border=\"1\" class=\"dataframe\">\n",
       "  <thead>\n",
       "    <tr style=\"text-align: right;\">\n",
       "      <th></th>\n",
       "      <th>count</th>\n",
       "    </tr>\n",
       "  </thead>\n",
       "  <tbody>\n",
       "    <tr>\n",
       "      <th>count</th>\n",
       "      <td>100.000000</td>\n",
       "    </tr>\n",
       "    <tr>\n",
       "      <th>mean</th>\n",
       "      <td>196.820000</td>\n",
       "    </tr>\n",
       "    <tr>\n",
       "      <th>std</th>\n",
       "      <td>176.167183</td>\n",
       "    </tr>\n",
       "    <tr>\n",
       "      <th>min</th>\n",
       "      <td>2.000000</td>\n",
       "    </tr>\n",
       "    <tr>\n",
       "      <th>25%</th>\n",
       "      <td>43.250000</td>\n",
       "    </tr>\n",
       "    <tr>\n",
       "      <th>50%</th>\n",
       "      <td>138.500000</td>\n",
       "    </tr>\n",
       "    <tr>\n",
       "      <th>75%</th>\n",
       "      <td>335.500000</td>\n",
       "    </tr>\n",
       "    <tr>\n",
       "      <th>max</th>\n",
       "      <td>602.000000</td>\n",
       "    </tr>\n",
       "  </tbody>\n",
       "</table>\n",
       "</div><br><label><b>dtype:</b> float64</label>"
      ],
      "text/plain": [
       "count    100.000000\n",
       "mean     196.820000\n",
       "std      176.167183\n",
       "min        2.000000\n",
       "25%       43.250000\n",
       "50%      138.500000\n",
       "75%      335.500000\n",
       "max      602.000000\n",
       "Name: count, dtype: float64"
      ]
     },
     "execution_count": 37,
     "metadata": {},
     "output_type": "execute_result"
    }
   ],
   "source": [
    "data1.describe()"
   ]
  },
  {
   "cell_type": "code",
   "execution_count": null,
   "metadata": {
    "colab": {
     "base_uri": "https://localhost:8080/",
     "height": 335
    },
    "id": "gHk_OGzbYTn8",
    "outputId": "f561af5c-7cbb-4609-b81b-40b615810e87"
   },
   "outputs": [
    {
     "data": {
      "text/html": [
       "<div>\n",
       "<style scoped>\n",
       "    .dataframe tbody tr th:only-of-type {\n",
       "        vertical-align: middle;\n",
       "    }\n",
       "\n",
       "    .dataframe tbody tr th {\n",
       "        vertical-align: top;\n",
       "    }\n",
       "\n",
       "    .dataframe thead th {\n",
       "        text-align: right;\n",
       "    }\n",
       "</style>\n",
       "<table border=\"1\" class=\"dataframe\">\n",
       "  <thead>\n",
       "    <tr style=\"text-align: right;\">\n",
       "      <th></th>\n",
       "      <th>count</th>\n",
       "    </tr>\n",
       "  </thead>\n",
       "  <tbody>\n",
       "    <tr>\n",
       "      <th>count</th>\n",
       "      <td>100.000000</td>\n",
       "    </tr>\n",
       "    <tr>\n",
       "      <th>mean</th>\n",
       "      <td>183.650000</td>\n",
       "    </tr>\n",
       "    <tr>\n",
       "      <th>std</th>\n",
       "      <td>178.538193</td>\n",
       "    </tr>\n",
       "    <tr>\n",
       "      <th>min</th>\n",
       "      <td>1.000000</td>\n",
       "    </tr>\n",
       "    <tr>\n",
       "      <th>25%</th>\n",
       "      <td>36.500000</td>\n",
       "    </tr>\n",
       "    <tr>\n",
       "      <th>50%</th>\n",
       "      <td>147.500000</td>\n",
       "    </tr>\n",
       "    <tr>\n",
       "      <th>75%</th>\n",
       "      <td>275.250000</td>\n",
       "    </tr>\n",
       "    <tr>\n",
       "      <th>max</th>\n",
       "      <td>868.000000</td>\n",
       "    </tr>\n",
       "  </tbody>\n",
       "</table>\n",
       "</div><br><label><b>dtype:</b> float64</label>"
      ],
      "text/plain": [
       "count    100.000000\n",
       "mean     183.650000\n",
       "std      178.538193\n",
       "min        1.000000\n",
       "25%       36.500000\n",
       "50%      147.500000\n",
       "75%      275.250000\n",
       "max      868.000000\n",
       "Name: count, dtype: float64"
      ]
     },
     "execution_count": 38,
     "metadata": {},
     "output_type": "execute_result"
    }
   ],
   "source": [
    "data2.describe()"
   ]
  },
  {
   "cell_type": "markdown",
   "metadata": {
    "id": "2IdJ31_fbMmm"
   },
   "source": [
    "Let us assume that:\n",
    "\n",
    "Null Hypothesis(Ho) -> The population mean of data1 and data2 are same\n",
    "\n",
    "Alternate Hypothesis(Ha) -> The population mean of data1 and data2 are not same\n",
    "\n",
    "alpha = 0.05(95% confidence level)"
   ]
  },
  {
   "cell_type": "code",
   "execution_count": null,
   "metadata": {
    "id": "1dtWaU_tYYHK"
   },
   "outputs": [],
   "source": [
    "from scipy.stats import ttest_ind #importing the library for two sample independent T-test"
   ]
  },
  {
   "cell_type": "code",
   "execution_count": null,
   "metadata": {
    "colab": {
     "base_uri": "https://localhost:8080/"
    },
    "id": "mNjj9ccvZX0T",
    "outputId": "cb5f54b4-4a81-4772-e36c-1c632d891fbc"
   },
   "outputs": [
    {
     "data": {
      "text/plain": [
       "TtestResult(statistic=np.float64(-0.5250773680429645), pvalue=np.float64(0.6001168587622823), df=np.float64(198.0))"
      ]
     },
     "execution_count": 51,
     "metadata": {},
     "output_type": "execute_result"
    }
   ],
   "source": [
    "ttest_ind(data2, data1) #performing independent t-test for Holiday/Weekend and not a Holiday/Weekend data"
   ]
  },
  {
   "cell_type": "markdown",
   "metadata": {
    "id": "EUopuQosaiDg"
   },
   "source": [
    "From the above T-test we can see that p-value(0.60) > alpha(0.05) so we fail to reject the null hypothesis which means **the population mean booking of Holiday/Weekend is same as not a Holiday/Weekend**."
   ]
  },
  {
   "cell_type": "markdown",
   "metadata": {
    "id": "QiKo0wPzbngT"
   },
   "source": [
    "Let's us also perform Kruskal-Wallis test which is independent upon assumptions.\n",
    "\n",
    "**Kruskal-Wallis** test is a non-parametric equivalent of one-way ANOVA, used to determine if groups have the same median"
   ]
  },
  {
   "cell_type": "markdown",
   "metadata": {
    "id": "FGD6rmGncBsK"
   },
   "source": [
    "Let us assume that:\n",
    "\n",
    "Null Hypothesis(Ho) -> The population median of data1 and data2 are same\n",
    "\n",
    "Alternate Hypothesis(Ha) -> The population median of data1 and data2 are not same\n",
    "\n",
    "alpha = 0.05(95% confidence level)"
   ]
  },
  {
   "cell_type": "code",
   "execution_count": null,
   "metadata": {
    "colab": {
     "base_uri": "https://localhost:8080/"
    },
    "id": "pIIP0XD0aiTL",
    "outputId": "702fcf43-2beb-4f38-ea1c-76db6db27919"
   },
   "outputs": [
    {
     "data": {
      "text/plain": [
       "KruskalResult(statistic=np.float64(0.061509153327519675), pvalue=np.float64(0.8041263681907562))"
      ]
     },
     "execution_count": 24,
     "metadata": {},
     "output_type": "execute_result"
    }
   ],
   "source": [
    "from scipy.stats import kruskal\n",
    "\n",
    "kruskal(data1,data2) #performing kruskal test for Holiday/Weekend and not a Holiday/Weekend data"
   ]
  },
  {
   "cell_type": "markdown",
   "metadata": {
    "id": "osOVJatcb56B"
   },
   "source": [
    "From the above Kruskal-Wallis test we can see that p-value(0.80) > alpha(0.05) so we fail to reject the null hypothesis which means the population median of data1 = data2."
   ]
  },
  {
   "cell_type": "markdown",
   "metadata": {
    "id": "qDOfb2xocG0e"
   },
   "source": [
    "**From the above tests we can conclude that Working Day has no effect on the number of electric cycles rented.**"
   ]
  },
  {
   "cell_type": "markdown",
   "metadata": {
    "id": "CWX8Cx29dxBh"
   },
   "source": [
    "**ANNOVA to check if No. of cycles rented is similar or different in different**\n",
    "1. weather\n",
    "\n",
    "2. season"
   ]
  },
  {
   "cell_type": "markdown",
   "metadata": {
    "id": "qHRWaftfer_a"
   },
   "source": [
    "**One-Way ANOVA** (\"analysis of variance\") compares the means of two or more independent groups in order to determine whether there is statistical evidence that the associated population means are significantly different. One-Way ANOVA is a parametric test. This test is also known as: One-Factor ANOVA."
   ]
  },
  {
   "cell_type": "markdown",
   "metadata": {
    "id": "ovPaYCAQfA8W"
   },
   "source": [
    "**Assumption:** We can use the test when our data values are independent, are randomly sampled from two or more normal populations and the two or more independent groups have equal variances."
   ]
  },
  {
   "cell_type": "markdown",
   "metadata": {
    "id": "IaltWNB7dj8d"
   },
   "source": [
    "**Weather**"
   ]
  },
  {
   "cell_type": "markdown",
   "metadata": {
    "id": "tU1lHHCJJ8px"
   },
   "source": [
    "Before doing the Anova test let us check if the data is normally distributed or not.\n",
    "\n",
    "**We will use Shapiro test for checking the normality and levene's test for homogeneity of variance.**"
   ]
  },
  {
   "cell_type": "code",
   "execution_count": null,
   "metadata": {
    "id": "V_5J4lxEVR3_"
   },
   "outputs": [],
   "source": [
    "#Let us taking 100 samples for each weather category\n",
    "data_w1 = df[df['weather'] == 1]['count'].sample(100) #Taking 100 samples for type \"Clear, Few clouds, partly cloudy, partly cloudy\"\n",
    "data_w2 = df[df['weather'] == 2]['count'].sample(100) #Taking 100 samples for type \"Mist + Cloudy, Mist + Broken clouds, Mist + Few clouds, Mist\"\n",
    "data_w3 = df[df['weather'] == 3]['count'].sample(100) #Taking 100 samples for type \"Light Snow, Light Rain + Thunderstorm + Scattered clouds, Light Rain + Scattered clouds\"\n",
    "data_w4 = df[df['weather'] == 4]['count'] #There is only 1 record for type \"Heavy Rain + Ice Pallets + Thunderstorm + Mist, Snow + Fog\""
   ]
  },
  {
   "cell_type": "markdown",
   "metadata": {
    "id": "K1wxxcL8XDOH"
   },
   "source": [
    "Shapiro-Wilk test"
   ]
  },
  {
   "cell_type": "markdown",
   "metadata": {
    "id": "LglGrc7pW8bX"
   },
   "source": [
    "Let us assume that:\n",
    "\n",
    "Null Hypothesis(Ho) -> The data is normally distributed\n",
    "\n",
    "Alternate Hypothesis(Ha) -> The data is not normally distrubuted\n",
    "\n",
    "alpha = 0.05(95% confidence level)"
   ]
  },
  {
   "cell_type": "code",
   "execution_count": null,
   "metadata": {
    "colab": {
     "base_uri": "https://localhost:8080/"
    },
    "id": "855kRl5PWQE3",
    "outputId": "dfce260b-91d8-4f08-a5a6-0a2ae6d05d1a"
   },
   "outputs": [
    {
     "data": {
      "text/plain": [
       "ShapiroResult(statistic=np.float64(0.9261007762062571), pvalue=np.float64(3.010654698893844e-05))"
      ]
     },
     "execution_count": 10,
     "metadata": {},
     "output_type": "execute_result"
    }
   ],
   "source": [
    "shapiro(data_w1) #performing kruskal test for  weather category \"Clear, Few clouds, partly cloudy, partly cloudy\""
   ]
  },
  {
   "cell_type": "code",
   "execution_count": null,
   "metadata": {
    "colab": {
     "base_uri": "https://localhost:8080/"
    },
    "id": "3azTgiM_XSuD",
    "outputId": "eb5b2c97-f721-4380-cb74-df5b567728a4"
   },
   "outputs": [
    {
     "data": {
      "text/plain": [
       "ShapiroResult(statistic=np.float64(0.8726682445796381), pvalue=np.float64(8.995733151678049e-08))"
      ]
     },
     "execution_count": 11,
     "metadata": {},
     "output_type": "execute_result"
    }
   ],
   "source": [
    "shapiro(data_w2) #performing kruskal test for  weather category \"Mist + Cloudy, Mist + Broken clouds, Mist + Few clouds, Mist\""
   ]
  },
  {
   "cell_type": "code",
   "execution_count": null,
   "metadata": {
    "colab": {
     "base_uri": "https://localhost:8080/"
    },
    "id": "vARbgeWDXSkX",
    "outputId": "21ba0426-22aa-4a5a-f483-0267e6e62283"
   },
   "outputs": [
    {
     "data": {
      "text/plain": [
       "ShapiroResult(statistic=np.float64(0.7388354677546232), pvalue=np.float64(4.794030725277435e-12))"
      ]
     },
     "execution_count": 12,
     "metadata": {},
     "output_type": "execute_result"
    }
   ],
   "source": [
    "shapiro(data_w3) #performing kruskal test for  weather category \"Light Snow, Light Rain + Thunderstorm + Scattered clouds, Light Rain + Scattered clouds\""
   ]
  },
  {
   "cell_type": "markdown",
   "metadata": {
    "id": "c-X71O6tXcwf"
   },
   "source": [
    "From the above Shapiro test for all the weather categories(1,2,3) p-values are very small which means p-values(0.0000301,0.0000000899,0.00000000000479) < alpha(0.05) so we will reject our null hypotheseis.\n",
    "\n",
    "**For weather categories the data is not normally distributed.**"
   ]
  },
  {
   "cell_type": "markdown",
   "metadata": {
    "id": "9t0qGce2YvYp"
   },
   "source": [
    "Levene's Test"
   ]
  },
  {
   "cell_type": "markdown",
   "metadata": {
    "id": "EBdLh31VYvPq"
   },
   "source": [
    "Let us assume that:\n",
    "\n",
    "Null Hypothesis(Ho) -> The variance are same\n",
    "\n",
    "Alternate Hypothesis(Ha) -> The variance are not same\n",
    "\n",
    "alpha = 0.05(95% confidence level)"
   ]
  },
  {
   "cell_type": "code",
   "execution_count": null,
   "metadata": {
    "colab": {
     "base_uri": "https://localhost:8080/"
    },
    "id": "3C1xSv13Y08r",
    "outputId": "7f1d91fc-6b84-4b00-d192-7f482a07ddd8"
   },
   "outputs": [
    {
     "data": {
      "text/plain": [
       "LeveneResult(statistic=np.float64(5.7172582850386675), pvalue=np.float64(0.0008135384657588784))"
      ]
     },
     "execution_count": 17,
     "metadata": {},
     "output_type": "execute_result"
    }
   ],
   "source": [
    "levene(data_w1,data_w2,data_w3,data_w4) #performing levene's test for different weather categories"
   ]
  },
  {
   "cell_type": "markdown",
   "metadata": {
    "id": "D_fvnDewZMNH"
   },
   "source": [
    "We can see that p-value(0.00081) < alpha(0.05) so we will reject the null hypothesis. **For weather categories variance are not same.**"
   ]
  },
  {
   "cell_type": "markdown",
   "metadata": {
    "id": "aKjekYIXZwna"
   },
   "source": [
    "Normality and Variance test failed for Weather categories but still let us perform One-Way ANOVA test and analyse the results."
   ]
  },
  {
   "cell_type": "markdown",
   "metadata": {
    "id": "GvmF1vDjZwfn"
   },
   "source": [
    "Let us assume that:\n",
    "\n",
    "Null Hypothesis(Ho) -> all group means are equal\n",
    "\n",
    "Alternate Hypothesis(Ha) -> at least one group mean differs significantly from the others\n",
    "\n",
    "alpha = 0.05(95% confidence level)"
   ]
  },
  {
   "cell_type": "code",
   "execution_count": null,
   "metadata": {
    "colab": {
     "base_uri": "https://localhost:8080/"
    },
    "id": "AJqE-v9CaRc-",
    "outputId": "b54ea8f0-ab1b-43b4-b4ca-0a72b3a55f2d"
   },
   "outputs": [
    {
     "data": {
      "text/plain": [
       "F_onewayResult(statistic=np.float64(10.850801267679744), pvalue=np.float64(8.749506604515357e-07))"
      ]
     },
     "execution_count": 20,
     "metadata": {},
     "output_type": "execute_result"
    }
   ],
   "source": [
    "from scipy.stats import f_oneway #importng library for one-way Annova test\n",
    "\n",
    "f_oneway(data_w1,data_w2,data_w3,data_w4) #performing anova test for different weather categories"
   ]
  },
  {
   "cell_type": "markdown",
   "metadata": {
    "id": "gjRsVLRobFxy"
   },
   "source": [
    "From the above one-way Anova test we can see that p-value(0.000000874) < alpha(0.05) so we will reject our Null hypothesis. We can say that atleast one weather category has different mean.\n",
    "\n",
    "**We can conclude that No. of cycles rented is different for different Weather condition. No. of cycles rented is dependent upon Weather.**"
   ]
  },
  {
   "cell_type": "markdown",
   "metadata": {
    "id": "uffLcXECcJ1x"
   },
   "source": [
    "Let us also perform Kruskal-Wallis test and analyse the outcomes"
   ]
  },
  {
   "cell_type": "markdown",
   "metadata": {
    "id": "V_79bH8yb8f7"
   },
   "source": [
    "Let us assume that:\n",
    "\n",
    "Null Hypothesis(Ho) -> The population median of data_w1,data_w2,data_w3,data_w4 are same\n",
    "\n",
    "Alternate Hypothesis(Ha) -> The population median of data_w1,data_w2,data_w3,data_w4 are not same\n",
    "\n",
    "alpha = 0.05(95% confidence level)"
   ]
  },
  {
   "cell_type": "code",
   "execution_count": null,
   "metadata": {
    "colab": {
     "base_uri": "https://localhost:8080/"
    },
    "id": "annSzPUQcVdC",
    "outputId": "97db5439-dc67-48c2-a9ca-2468ac8a9218"
   },
   "outputs": [
    {
     "data": {
      "text/plain": [
       "KruskalResult(statistic=np.float64(29.716041210282942), pvalue=np.float64(1.583502944874094e-06))"
      ]
     },
     "execution_count": 25,
     "metadata": {},
     "output_type": "execute_result"
    }
   ],
   "source": [
    "kruskal(data_w1,data_w2,data_w3,data_w4) #performing kruskal test for different weather categories"
   ]
  },
  {
   "cell_type": "markdown",
   "metadata": {
    "id": "HpDm9kAKcgDy"
   },
   "source": [
    "From the above Kruskal test we can see that p-value(0.00000158) < alpha(0.05) so we will reject our Null hypothesis. We can say that median of weather category are not same.\n",
    "\n",
    "From this test also we can conclude that **No. of cycles rented is dependent upon Weather.**"
   ]
  },
  {
   "cell_type": "markdown",
   "metadata": {
    "id": "V3aBrG5Hdrtl"
   },
   "source": [
    "**Season**"
   ]
  },
  {
   "cell_type": "markdown",
   "metadata": {
    "id": "Xz7dnHhDdwQZ"
   },
   "source": [
    "Before doing the Anova test let us check if the data is normally distributed or not.\n",
    "\n",
    "**We will use Shapiro test for checking the normality and levene's test for homogeneity of variance.**"
   ]
  },
  {
   "cell_type": "code",
   "execution_count": null,
   "metadata": {
    "id": "KDwJ1ZCcdxno"
   },
   "outputs": [],
   "source": [
    "#Let us taking 100 samples for each Season category\n",
    "data_s1 = df[df['season'] == 1]['count'].sample(100) #Taking 100 samples for Season \"spring\"\n",
    "data_s2 = df[df['season'] == 2]['count'].sample(100) #Taking 100 samples for Season \"summer\"\n",
    "data_s3 = df[df['season'] == 3]['count'].sample(100) #Taking 100 samples for Season \"fall\"\n",
    "data_s4 = df[df['season'] == 4]['count'].sample(100) #Taking 100 samples for Season \"winter\""
   ]
  },
  {
   "cell_type": "markdown",
   "metadata": {
    "id": "tsPu2tCQeTB2"
   },
   "source": [
    "Shapiro-Wilk test"
   ]
  },
  {
   "cell_type": "markdown",
   "metadata": {
    "id": "vmAcwZjNeS4O"
   },
   "source": [
    "Let us assume that:\n",
    "\n",
    "Null Hypothesis(Ho) -> The data is normally distributed\n",
    "\n",
    "Alternate Hypothesis(Ha) -> The data is not normally distrubuted\n",
    "\n",
    "alpha = 0.05(95% confidence level)"
   ]
  },
  {
   "cell_type": "code",
   "execution_count": null,
   "metadata": {
    "colab": {
     "base_uri": "https://localhost:8080/"
    },
    "id": "YyDNBZ7jeW8e",
    "outputId": "56b854c7-ef1f-4a6e-ffaa-b2c113051ac3"
   },
   "outputs": [
    {
     "data": {
      "text/plain": [
       "ShapiroResult(statistic=np.float64(0.7654066339187138), pvalue=np.float64(2.4403533717662967e-11))"
      ]
     },
     "execution_count": 40,
     "metadata": {},
     "output_type": "execute_result"
    }
   ],
   "source": [
    "shapiro(data_s1) #performing shapiro test for season category \"spring\""
   ]
  },
  {
   "cell_type": "code",
   "execution_count": null,
   "metadata": {
    "colab": {
     "base_uri": "https://localhost:8080/"
    },
    "id": "bUJNOExXehV-",
    "outputId": "cbe39ae3-5759-439d-c2ca-4f8bd36a2359"
   },
   "outputs": [
    {
     "data": {
      "text/plain": [
       "ShapiroResult(statistic=np.float64(0.8950916362260652), pvalue=np.float64(8.369940017977435e-07))"
      ]
     },
     "execution_count": 41,
     "metadata": {},
     "output_type": "execute_result"
    }
   ],
   "source": [
    "shapiro(data_s2) #performing shapiro test for season category \"summer\""
   ]
  },
  {
   "cell_type": "code",
   "execution_count": null,
   "metadata": {
    "colab": {
     "base_uri": "https://localhost:8080/"
    },
    "id": "0IA_yhxnehTG",
    "outputId": "a390dac9-9cac-47b7-b85c-b44626fa1cb8"
   },
   "outputs": [
    {
     "data": {
      "text/plain": [
       "ShapiroResult(statistic=np.float64(0.9254441096307158), pvalue=np.float64(2.769926839992501e-05))"
      ]
     },
     "execution_count": 42,
     "metadata": {},
     "output_type": "execute_result"
    }
   ],
   "source": [
    "shapiro(data_s3) #performing shapiro test for season category \"fall\""
   ]
  },
  {
   "cell_type": "code",
   "execution_count": null,
   "metadata": {
    "colab": {
     "base_uri": "https://localhost:8080/"
    },
    "id": "_2K6HQAZehM9",
    "outputId": "ccf4e20a-10d3-4ee1-9dc5-c273e8f382e8"
   },
   "outputs": [
    {
     "data": {
      "text/plain": [
       "ShapiroResult(statistic=np.float64(0.897775336703937), pvalue=np.float64(1.112847630372918e-06))"
      ]
     },
     "execution_count": 43,
     "metadata": {},
     "output_type": "execute_result"
    }
   ],
   "source": [
    "shapiro(data_s4) #performing shapiro test for season category \"winter\""
   ]
  },
  {
   "cell_type": "markdown",
   "metadata": {
    "id": "-B8I3JTBe52F"
   },
   "source": [
    "We have performed the test multiple times and for all the Season categories p-values are very small which means p-values(0.0000011,0.0000000000244,0.000000369,0.0000276) < alpha(0.05) so we will reject our null hypotheseis.\n",
    "\n",
    "**For Season categories the data is not normally distributed.**"
   ]
  },
  {
   "cell_type": "markdown",
   "metadata": {
    "id": "rjhfX_8HfVH9"
   },
   "source": [
    "Levene's Test"
   ]
  },
  {
   "cell_type": "markdown",
   "metadata": {
    "id": "2omLMn9lfVFG"
   },
   "source": [
    "Let us assume that:\n",
    "\n",
    "Null Hypothesis(Ho) -> The variance are same\n",
    "\n",
    "Alternate Hypothesis(Ha) -> The variance are not same\n",
    "\n",
    "alpha = 0.05(95% confidence level)"
   ]
  },
  {
   "cell_type": "code",
   "execution_count": null,
   "metadata": {
    "colab": {
     "base_uri": "https://localhost:8080/"
    },
    "id": "j6tF_5MOferm",
    "outputId": "84e0c951-a6e9-42dc-f335-c839e4cc9561"
   },
   "outputs": [
    {
     "data": {
      "text/plain": [
       "LeveneResult(statistic=np.float64(9.113422671653565), pvalue=np.float64(7.599727108142748e-06))"
      ]
     },
     "execution_count": 44,
     "metadata": {},
     "output_type": "execute_result"
    }
   ],
   "source": [
    "levene(data_s1,data_s2,data_s3,data_s4) #performing levene's test for different season categories"
   ]
  },
  {
   "cell_type": "markdown",
   "metadata": {
    "id": "ky6OFWorfn52"
   },
   "source": [
    "We can see that p-value(0.00000759) < alpha((0.05) so we will reject the null hypothesis. **For Season categories variance are not same.**"
   ]
  },
  {
   "cell_type": "markdown",
   "metadata": {
    "id": "feATX75kge0W"
   },
   "source": [
    "Normality and Variance test failed for Season categories but still let us perform One-Way ANOVA test and analyse the results."
   ]
  },
  {
   "cell_type": "markdown",
   "metadata": {
    "id": "7r4NZ2IQgYdS"
   },
   "source": [
    "Let us assume that:\n",
    "\n",
    "Null Hypothesis(Ho) -> all group means are equal\n",
    "\n",
    "Alternate Hypothesis(Ha) -> at least one group mean differs significantly from the others\n",
    "\n",
    "alpha = 0.05(95% confidence level)"
   ]
  },
  {
   "cell_type": "code",
   "execution_count": null,
   "metadata": {
    "colab": {
     "base_uri": "https://localhost:8080/"
    },
    "id": "d2__4pkTgBxK",
    "outputId": "2dd63a02-3ffa-4a81-b04c-7d01e679d6cc"
   },
   "outputs": [
    {
     "data": {
      "text/plain": [
       "F_onewayResult(statistic=np.float64(9.04186435857137), pvalue=np.float64(8.373868430876906e-06))"
      ]
     },
     "execution_count": 45,
     "metadata": {},
     "output_type": "execute_result"
    }
   ],
   "source": [
    "f_oneway(data_s1,data_s2,data_s3,data_s4) #performing anova test for different season categories"
   ]
  },
  {
   "cell_type": "markdown",
   "metadata": {
    "id": "QW3TPcJNgNJ7"
   },
   "source": [
    "From the above one-way Anova test we can see that p-value(0.00000837) < alpha(0.05) so we will reject our Null hypothesis. We can say that atleast one Season category has different mean.\n",
    "\n",
    "We can conclude that **No. of cycles rented is different for different Season. No. of cycles rented is dependent upon Season.**"
   ]
  },
  {
   "cell_type": "markdown",
   "metadata": {
    "id": "6BJPuaf9gxr6"
   },
   "source": [
    "Let us also perform Kruskal-Wallis test and analyse the outcomes"
   ]
  },
  {
   "cell_type": "markdown",
   "metadata": {
    "id": "Ekhc2xUog0Zm"
   },
   "source": [
    "Let us assume that:\n",
    "\n",
    "Null Hypothesis(Ho) -> The population median of data_s1,data_s2,data_s3,data_s4 are same\n",
    "\n",
    "Alternate Hypothesis(Ha) -> The population median of data_s1,data_s2,data_s3,data_s4 are not same\n",
    "\n",
    "alpha = 0.05(95% confidence level)"
   ]
  },
  {
   "cell_type": "code",
   "execution_count": null,
   "metadata": {
    "colab": {
     "base_uri": "https://localhost:8080/"
    },
    "id": "Yi_Yu05ag4yJ",
    "outputId": "d11446b3-8ee6-454f-b1fa-dc160acba48d"
   },
   "outputs": [
    {
     "data": {
      "text/plain": [
       "KruskalResult(statistic=np.float64(24.309966022492958), pvalue=np.float64(2.152108214325034e-05))"
      ]
     },
     "execution_count": 46,
     "metadata": {},
     "output_type": "execute_result"
    }
   ],
   "source": [
    "kruskal(data_s1,data_s2,data_s3,data_s4) #performing kruskal test for different season categories"
   ]
  },
  {
   "cell_type": "markdown",
   "metadata": {
    "id": "Qk7i_YcThCsK"
   },
   "source": [
    "From the above Kruskal test we can see that p-value(0.0000215) < alpha(0.05) so we will reject our Null hypothesis. We can say that median of Season category are not same.\n",
    "\n",
    "From this test also we can conclude that **No. of cycles rented is dependent upon Season.**"
   ]
  },
  {
   "cell_type": "markdown",
   "metadata": {
    "id": "3P-Mu8ftiACR"
   },
   "source": [
    "**Chi-square test to check if Weather is dependent on the season**"
   ]
  },
  {
   "cell_type": "markdown",
   "metadata": {
    "id": "lYEo2_pPiPkG"
   },
   "source": [
    "**Chi-square test** is a statistical hypothesis test used to analyze contingency tables and determine the relationship between two categorical variables, or to assess if observed frequencies differ significantly from expected frequencies.\n",
    "\n",
    "Basically this test determines if two categorical variables are related or independent of each other."
   ]
  },
  {
   "cell_type": "markdown",
   "metadata": {
    "id": "S2zZQQVuipU-"
   },
   "source": [
    "**Assumptions:** The data must be categorical, observations must be independent, and the expected frequencies in each category should be at least 5 for valid results"
   ]
  },
  {
   "cell_type": "markdown",
   "metadata": {
    "id": "HrWia8gEi-dh"
   },
   "source": [
    "Let us assume that:\n",
    "\n",
    "Null Hypothesis(Ho) -> There is no relationship or association between the categorical variables\n",
    "\n",
    "Alternate Hypothesis(Ha) -> There is relationship or association between the categorical variables\n",
    "\n",
    "alpha = 0.05(95% confidence level)"
   ]
  },
  {
   "cell_type": "code",
   "execution_count": null,
   "metadata": {
    "colab": {
     "base_uri": "https://localhost:8080/",
     "height": 206
    },
    "id": "B_g-TyvJkYAd",
    "outputId": "cccbe9c8-b93e-4f98-8010-dc5a8739a0bd"
   },
   "outputs": [
    {
     "data": {
      "application/vnd.google.colaboratory.intrinsic+json": {
       "summary": "{\n  \"name\": \"contingency_table\",\n  \"rows\": 4,\n  \"fields\": [\n    {\n      \"column\": \"weather\",\n      \"properties\": {\n        \"dtype\": \"number\",\n        \"std\": 1,\n        \"min\": 1,\n        \"max\": 4,\n        \"num_unique_values\": 4,\n        \"samples\": [\n          2,\n          4,\n          1\n        ],\n        \"semantic_type\": \"\",\n        \"description\": \"\"\n      }\n    },\n    {\n      \"column\": 1,\n      \"properties\": {\n        \"dtype\": \"number\",\n        \"std\": 784,\n        \"min\": 1,\n        \"max\": 1759,\n        \"num_unique_values\": 4,\n        \"samples\": [\n          715,\n          1,\n          1759\n        ],\n        \"semantic_type\": \"\",\n        \"description\": \"\"\n      }\n    },\n    {\n      \"column\": 2,\n      \"properties\": {\n        \"dtype\": \"number\",\n        \"std\": 801,\n        \"min\": 0,\n        \"max\": 1801,\n        \"num_unique_values\": 4,\n        \"samples\": [\n          708,\n          0,\n          1801\n        ],\n        \"semantic_type\": \"\",\n        \"description\": \"\"\n      }\n    },\n    {\n      \"column\": 3,\n      \"properties\": {\n        \"dtype\": \"number\",\n        \"std\": 868,\n        \"min\": 0,\n        \"max\": 1930,\n        \"num_unique_values\": 4,\n        \"samples\": [\n          604,\n          0,\n          1930\n        ],\n        \"semantic_type\": \"\",\n        \"description\": \"\"\n      }\n    },\n    {\n      \"column\": 4,\n      \"properties\": {\n        \"dtype\": \"number\",\n        \"std\": 759,\n        \"min\": 0,\n        \"max\": 1702,\n        \"num_unique_values\": 4,\n        \"samples\": [\n          807,\n          0,\n          1702\n        ],\n        \"semantic_type\": \"\",\n        \"description\": \"\"\n      }\n    }\n  ]\n}",
       "type": "dataframe",
       "variable_name": "contingency_table"
      },
      "text/html": [
       "\n",
       "  <div id=\"df-4e78f4cb-8792-4505-b472-8d6d15e276e3\" class=\"colab-df-container\">\n",
       "    <div>\n",
       "<style scoped>\n",
       "    .dataframe tbody tr th:only-of-type {\n",
       "        vertical-align: middle;\n",
       "    }\n",
       "\n",
       "    .dataframe tbody tr th {\n",
       "        vertical-align: top;\n",
       "    }\n",
       "\n",
       "    .dataframe thead th {\n",
       "        text-align: right;\n",
       "    }\n",
       "</style>\n",
       "<table border=\"1\" class=\"dataframe\">\n",
       "  <thead>\n",
       "    <tr style=\"text-align: right;\">\n",
       "      <th>season</th>\n",
       "      <th>1</th>\n",
       "      <th>2</th>\n",
       "      <th>3</th>\n",
       "      <th>4</th>\n",
       "    </tr>\n",
       "    <tr>\n",
       "      <th>weather</th>\n",
       "      <th></th>\n",
       "      <th></th>\n",
       "      <th></th>\n",
       "      <th></th>\n",
       "    </tr>\n",
       "  </thead>\n",
       "  <tbody>\n",
       "    <tr>\n",
       "      <th>1</th>\n",
       "      <td>1759</td>\n",
       "      <td>1801</td>\n",
       "      <td>1930</td>\n",
       "      <td>1702</td>\n",
       "    </tr>\n",
       "    <tr>\n",
       "      <th>2</th>\n",
       "      <td>715</td>\n",
       "      <td>708</td>\n",
       "      <td>604</td>\n",
       "      <td>807</td>\n",
       "    </tr>\n",
       "    <tr>\n",
       "      <th>3</th>\n",
       "      <td>211</td>\n",
       "      <td>224</td>\n",
       "      <td>199</td>\n",
       "      <td>225</td>\n",
       "    </tr>\n",
       "    <tr>\n",
       "      <th>4</th>\n",
       "      <td>1</td>\n",
       "      <td>0</td>\n",
       "      <td>0</td>\n",
       "      <td>0</td>\n",
       "    </tr>\n",
       "  </tbody>\n",
       "</table>\n",
       "</div>\n",
       "    <div class=\"colab-df-buttons\">\n",
       "\n",
       "  <div class=\"colab-df-container\">\n",
       "    <button class=\"colab-df-convert\" onclick=\"convertToInteractive('df-4e78f4cb-8792-4505-b472-8d6d15e276e3')\"\n",
       "            title=\"Convert this dataframe to an interactive table.\"\n",
       "            style=\"display:none;\">\n",
       "\n",
       "  <svg xmlns=\"http://www.w3.org/2000/svg\" height=\"24px\" viewBox=\"0 -960 960 960\">\n",
       "    <path d=\"M120-120v-720h720v720H120Zm60-500h600v-160H180v160Zm220 220h160v-160H400v160Zm0 220h160v-160H400v160ZM180-400h160v-160H180v160Zm440 0h160v-160H620v160ZM180-180h160v-160H180v160Zm440 0h160v-160H620v160Z\"/>\n",
       "  </svg>\n",
       "    </button>\n",
       "\n",
       "  <style>\n",
       "    .colab-df-container {\n",
       "      display:flex;\n",
       "      gap: 12px;\n",
       "    }\n",
       "\n",
       "    .colab-df-convert {\n",
       "      background-color: #E8F0FE;\n",
       "      border: none;\n",
       "      border-radius: 50%;\n",
       "      cursor: pointer;\n",
       "      display: none;\n",
       "      fill: #1967D2;\n",
       "      height: 32px;\n",
       "      padding: 0 0 0 0;\n",
       "      width: 32px;\n",
       "    }\n",
       "\n",
       "    .colab-df-convert:hover {\n",
       "      background-color: #E2EBFA;\n",
       "      box-shadow: 0px 1px 2px rgba(60, 64, 67, 0.3), 0px 1px 3px 1px rgba(60, 64, 67, 0.15);\n",
       "      fill: #174EA6;\n",
       "    }\n",
       "\n",
       "    .colab-df-buttons div {\n",
       "      margin-bottom: 4px;\n",
       "    }\n",
       "\n",
       "    [theme=dark] .colab-df-convert {\n",
       "      background-color: #3B4455;\n",
       "      fill: #D2E3FC;\n",
       "    }\n",
       "\n",
       "    [theme=dark] .colab-df-convert:hover {\n",
       "      background-color: #434B5C;\n",
       "      box-shadow: 0px 1px 3px 1px rgba(0, 0, 0, 0.15);\n",
       "      filter: drop-shadow(0px 1px 2px rgba(0, 0, 0, 0.3));\n",
       "      fill: #FFFFFF;\n",
       "    }\n",
       "  </style>\n",
       "\n",
       "    <script>\n",
       "      const buttonEl =\n",
       "        document.querySelector('#df-4e78f4cb-8792-4505-b472-8d6d15e276e3 button.colab-df-convert');\n",
       "      buttonEl.style.display =\n",
       "        google.colab.kernel.accessAllowed ? 'block' : 'none';\n",
       "\n",
       "      async function convertToInteractive(key) {\n",
       "        const element = document.querySelector('#df-4e78f4cb-8792-4505-b472-8d6d15e276e3');\n",
       "        const dataTable =\n",
       "          await google.colab.kernel.invokeFunction('convertToInteractive',\n",
       "                                                    [key], {});\n",
       "        if (!dataTable) return;\n",
       "\n",
       "        const docLinkHtml = 'Like what you see? Visit the ' +\n",
       "          '<a target=\"_blank\" href=https://colab.research.google.com/notebooks/data_table.ipynb>data table notebook</a>'\n",
       "          + ' to learn more about interactive tables.';\n",
       "        element.innerHTML = '';\n",
       "        dataTable['output_type'] = 'display_data';\n",
       "        await google.colab.output.renderOutput(dataTable, element);\n",
       "        const docLink = document.createElement('div');\n",
       "        docLink.innerHTML = docLinkHtml;\n",
       "        element.appendChild(docLink);\n",
       "      }\n",
       "    </script>\n",
       "  </div>\n",
       "\n",
       "\n",
       "<div id=\"df-0d7e428b-5a4f-400e-a0ca-3df26c8ad880\">\n",
       "  <button class=\"colab-df-quickchart\" onclick=\"quickchart('df-0d7e428b-5a4f-400e-a0ca-3df26c8ad880')\"\n",
       "            title=\"Suggest charts\"\n",
       "            style=\"display:none;\">\n",
       "\n",
       "<svg xmlns=\"http://www.w3.org/2000/svg\" height=\"24px\"viewBox=\"0 0 24 24\"\n",
       "     width=\"24px\">\n",
       "    <g>\n",
       "        <path d=\"M19 3H5c-1.1 0-2 .9-2 2v14c0 1.1.9 2 2 2h14c1.1 0 2-.9 2-2V5c0-1.1-.9-2-2-2zM9 17H7v-7h2v7zm4 0h-2V7h2v10zm4 0h-2v-4h2v4z\"/>\n",
       "    </g>\n",
       "</svg>\n",
       "  </button>\n",
       "\n",
       "<style>\n",
       "  .colab-df-quickchart {\n",
       "      --bg-color: #E8F0FE;\n",
       "      --fill-color: #1967D2;\n",
       "      --hover-bg-color: #E2EBFA;\n",
       "      --hover-fill-color: #174EA6;\n",
       "      --disabled-fill-color: #AAA;\n",
       "      --disabled-bg-color: #DDD;\n",
       "  }\n",
       "\n",
       "  [theme=dark] .colab-df-quickchart {\n",
       "      --bg-color: #3B4455;\n",
       "      --fill-color: #D2E3FC;\n",
       "      --hover-bg-color: #434B5C;\n",
       "      --hover-fill-color: #FFFFFF;\n",
       "      --disabled-bg-color: #3B4455;\n",
       "      --disabled-fill-color: #666;\n",
       "  }\n",
       "\n",
       "  .colab-df-quickchart {\n",
       "    background-color: var(--bg-color);\n",
       "    border: none;\n",
       "    border-radius: 50%;\n",
       "    cursor: pointer;\n",
       "    display: none;\n",
       "    fill: var(--fill-color);\n",
       "    height: 32px;\n",
       "    padding: 0;\n",
       "    width: 32px;\n",
       "  }\n",
       "\n",
       "  .colab-df-quickchart:hover {\n",
       "    background-color: var(--hover-bg-color);\n",
       "    box-shadow: 0 1px 2px rgba(60, 64, 67, 0.3), 0 1px 3px 1px rgba(60, 64, 67, 0.15);\n",
       "    fill: var(--button-hover-fill-color);\n",
       "  }\n",
       "\n",
       "  .colab-df-quickchart-complete:disabled,\n",
       "  .colab-df-quickchart-complete:disabled:hover {\n",
       "    background-color: var(--disabled-bg-color);\n",
       "    fill: var(--disabled-fill-color);\n",
       "    box-shadow: none;\n",
       "  }\n",
       "\n",
       "  .colab-df-spinner {\n",
       "    border: 2px solid var(--fill-color);\n",
       "    border-color: transparent;\n",
       "    border-bottom-color: var(--fill-color);\n",
       "    animation:\n",
       "      spin 1s steps(1) infinite;\n",
       "  }\n",
       "\n",
       "  @keyframes spin {\n",
       "    0% {\n",
       "      border-color: transparent;\n",
       "      border-bottom-color: var(--fill-color);\n",
       "      border-left-color: var(--fill-color);\n",
       "    }\n",
       "    20% {\n",
       "      border-color: transparent;\n",
       "      border-left-color: var(--fill-color);\n",
       "      border-top-color: var(--fill-color);\n",
       "    }\n",
       "    30% {\n",
       "      border-color: transparent;\n",
       "      border-left-color: var(--fill-color);\n",
       "      border-top-color: var(--fill-color);\n",
       "      border-right-color: var(--fill-color);\n",
       "    }\n",
       "    40% {\n",
       "      border-color: transparent;\n",
       "      border-right-color: var(--fill-color);\n",
       "      border-top-color: var(--fill-color);\n",
       "    }\n",
       "    60% {\n",
       "      border-color: transparent;\n",
       "      border-right-color: var(--fill-color);\n",
       "    }\n",
       "    80% {\n",
       "      border-color: transparent;\n",
       "      border-right-color: var(--fill-color);\n",
       "      border-bottom-color: var(--fill-color);\n",
       "    }\n",
       "    90% {\n",
       "      border-color: transparent;\n",
       "      border-bottom-color: var(--fill-color);\n",
       "    }\n",
       "  }\n",
       "</style>\n",
       "\n",
       "  <script>\n",
       "    async function quickchart(key) {\n",
       "      const quickchartButtonEl =\n",
       "        document.querySelector('#' + key + ' button');\n",
       "      quickchartButtonEl.disabled = true;  // To prevent multiple clicks.\n",
       "      quickchartButtonEl.classList.add('colab-df-spinner');\n",
       "      try {\n",
       "        const charts = await google.colab.kernel.invokeFunction(\n",
       "            'suggestCharts', [key], {});\n",
       "      } catch (error) {\n",
       "        console.error('Error during call to suggestCharts:', error);\n",
       "      }\n",
       "      quickchartButtonEl.classList.remove('colab-df-spinner');\n",
       "      quickchartButtonEl.classList.add('colab-df-quickchart-complete');\n",
       "    }\n",
       "    (() => {\n",
       "      let quickchartButtonEl =\n",
       "        document.querySelector('#df-0d7e428b-5a4f-400e-a0ca-3df26c8ad880 button');\n",
       "      quickchartButtonEl.style.display =\n",
       "        google.colab.kernel.accessAllowed ? 'block' : 'none';\n",
       "    })();\n",
       "  </script>\n",
       "</div>\n",
       "\n",
       "  <div id=\"id_7e9271a3-d2a4-4ce1-b5b2-3cb725c675a4\">\n",
       "    <style>\n",
       "      .colab-df-generate {\n",
       "        background-color: #E8F0FE;\n",
       "        border: none;\n",
       "        border-radius: 50%;\n",
       "        cursor: pointer;\n",
       "        display: none;\n",
       "        fill: #1967D2;\n",
       "        height: 32px;\n",
       "        padding: 0 0 0 0;\n",
       "        width: 32px;\n",
       "      }\n",
       "\n",
       "      .colab-df-generate:hover {\n",
       "        background-color: #E2EBFA;\n",
       "        box-shadow: 0px 1px 2px rgba(60, 64, 67, 0.3), 0px 1px 3px 1px rgba(60, 64, 67, 0.15);\n",
       "        fill: #174EA6;\n",
       "      }\n",
       "\n",
       "      [theme=dark] .colab-df-generate {\n",
       "        background-color: #3B4455;\n",
       "        fill: #D2E3FC;\n",
       "      }\n",
       "\n",
       "      [theme=dark] .colab-df-generate:hover {\n",
       "        background-color: #434B5C;\n",
       "        box-shadow: 0px 1px 3px 1px rgba(0, 0, 0, 0.15);\n",
       "        filter: drop-shadow(0px 1px 2px rgba(0, 0, 0, 0.3));\n",
       "        fill: #FFFFFF;\n",
       "      }\n",
       "    </style>\n",
       "    <button class=\"colab-df-generate\" onclick=\"generateWithVariable('contingency_table')\"\n",
       "            title=\"Generate code using this dataframe.\"\n",
       "            style=\"display:none;\">\n",
       "\n",
       "  <svg xmlns=\"http://www.w3.org/2000/svg\" height=\"24px\"viewBox=\"0 0 24 24\"\n",
       "       width=\"24px\">\n",
       "    <path d=\"M7,19H8.4L18.45,9,17,7.55,7,17.6ZM5,21V16.75L18.45,3.32a2,2,0,0,1,2.83,0l1.4,1.43a1.91,1.91,0,0,1,.58,1.4,1.91,1.91,0,0,1-.58,1.4L9.25,21ZM18.45,9,17,7.55Zm-12,3A5.31,5.31,0,0,0,4.9,8.1,5.31,5.31,0,0,0,1,6.5,5.31,5.31,0,0,0,4.9,4.9,5.31,5.31,0,0,0,6.5,1,5.31,5.31,0,0,0,8.1,4.9,5.31,5.31,0,0,0,12,6.5,5.46,5.46,0,0,0,6.5,12Z\"/>\n",
       "  </svg>\n",
       "    </button>\n",
       "    <script>\n",
       "      (() => {\n",
       "      const buttonEl =\n",
       "        document.querySelector('#id_7e9271a3-d2a4-4ce1-b5b2-3cb725c675a4 button.colab-df-generate');\n",
       "      buttonEl.style.display =\n",
       "        google.colab.kernel.accessAllowed ? 'block' : 'none';\n",
       "\n",
       "      buttonEl.onclick = () => {\n",
       "        google.colab.notebook.generateWithVariable('contingency_table');\n",
       "      }\n",
       "      })();\n",
       "    </script>\n",
       "  </div>\n",
       "\n",
       "    </div>\n",
       "  </div>\n"
      ],
      "text/plain": [
       "season      1     2     3     4\n",
       "weather                        \n",
       "1        1759  1801  1930  1702\n",
       "2         715   708   604   807\n",
       "3         211   224   199   225\n",
       "4           1     0     0     0"
      ]
     },
     "execution_count": 67,
     "metadata": {},
     "output_type": "execute_result"
    }
   ],
   "source": [
    "contingency_table = pd.crosstab(df['weather'],df['season']) #Taking crosstab between Season and Weather column to establish the connection\n",
    "contingency_table"
   ]
  },
  {
   "cell_type": "code",
   "execution_count": null,
   "metadata": {
    "colab": {
     "base_uri": "https://localhost:8080/"
    },
    "id": "r6u7sFXTklMi",
    "outputId": "55d21f99-56f8-4337-a168-a2ce652ffc90"
   },
   "outputs": [
    {
     "data": {
      "text/plain": [
       "Chi2ContingencyResult(statistic=np.float64(49.15865559689363), pvalue=np.float64(1.5499250736864862e-07), dof=9, expected_freq=array([[1.77454639e+03, 1.80559765e+03, 1.80559765e+03, 1.80625831e+03],\n",
       "       [6.99258130e+02, 7.11493845e+02, 7.11493845e+02, 7.11754180e+02],\n",
       "       [2.11948742e+02, 2.15657450e+02, 2.15657450e+02, 2.15736359e+02],\n",
       "       [2.46738931e-01, 2.51056403e-01, 2.51056403e-01, 2.51148264e-01]]))"
      ]
     },
     "execution_count": 68,
     "metadata": {},
     "output_type": "execute_result"
    }
   ],
   "source": [
    "from scipy.stats import chi2_contingency #importing required library for chi-square test\n",
    "\n",
    "chi2_contingency(contingency_table) #performing chi-square contingency test"
   ]
  },
  {
   "cell_type": "markdown",
   "metadata": {
    "id": "nJxzXI8mq2tE"
   },
   "source": [
    "From the above chi-square contigency test between two categorial column \"Season\" and \"Weather\" we can see that p-value(0.00000154) < alpha(0.05). So we will reject our null hypothesis.\n",
    "\n",
    "We can conclude that **there is relationship or association between the two categorical variables \"season\" and \"weather\".**"
   ]
  },
  {
   "cell_type": "markdown",
   "metadata": {
    "id": "7miBzcJxxUId"
   },
   "source": [
    "**Final Insights**\n",
    "\n",
    "From the visual analysis and plots we can conclude that:\n",
    "\n",
    "*   On avergae for non holiday booking rate is slightly high as compared to holiday.\n",
    "*   On avergae for non weekend/holiday booking rate is slightly high as compared to weekend/holiday.\n",
    "*   Majority of the booking was done during \"Clear, Few clouds, partly cloudy, partly cloudy\" weather conditons.\n",
    "*   Very few booking were done during the weather condition \"Heavy Rain + Ice Pallets + Thunderstorm + Mist, Snow + Fog\".\n",
    "\n",
    "From the tests we can conclude that:\n",
    "\n",
    "*   The population mean booking of Holiday/Weekend is same as not a Holiday/Weekend\n",
    "*   No. of cycles rented is dependent upon Weather.\n",
    "*   No. of cycles rented is dependent upon Season.\n",
    "*   There is relationship or association between the two categorical variables \"season\" and \"weather\". Weather is dependent on the season.\n",
    "\n",
    "**The number of cycles rented is dependent upon \"weather\" and \"season\".**\n",
    "\n",
    "*   When the weather is \"Clear, Few clouds, partly cloudy, partly cloudy\" the demand is high whereas when the weather is \"Light Snow, Light Rain + Thunderstorm + Scattered clouds, Light Rain + Scattered clouds\" and \"Heavy Rain + Ice Pallets + Thunderstorm + Mist, Snow + Fog\" demand is less.\n",
    "\n",
    "*   The demand is very is when the season is \"spring\" whereas the demand is high when season is \"fall\".\n",
    "\n",
    "*   Holiday and Working day has not sufficient effect on bookings."
   ]
  },
  {
   "cell_type": "markdown",
   "metadata": {
    "id": "r15bqW8A1ESx"
   },
   "source": [
    "                                             **This is the End of the Casestudy**"
   ]
  }
 ],
 "metadata": {
  "colab": {
   "provenance": []
  },
  "kernelspec": {
   "display_name": "Python [conda env:base] *",
   "language": "python",
   "name": "conda-base-py"
  },
  "language_info": {
   "codemirror_mode": {
    "name": "ipython",
    "version": 3
   },
   "file_extension": ".py",
   "mimetype": "text/x-python",
   "name": "python",
   "nbconvert_exporter": "python",
   "pygments_lexer": "ipython3",
   "version": "3.13.5"
  }
 },
 "nbformat": 4,
 "nbformat_minor": 4
}
